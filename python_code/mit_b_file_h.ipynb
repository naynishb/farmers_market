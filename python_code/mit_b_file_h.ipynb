{
 "cells": [
  {
   "cell_type": "code",
   "execution_count": 1,
   "id": "db826a53-7011-4f26-9d50-76ad3f2fc53a",
   "metadata": {},
   "outputs": [],
   "source": [
    "# file handling"
   ]
  },
  {
   "cell_type": "code",
   "execution_count": 2,
   "id": "825c482b-0943-4f81-b66e-5329d82b0427",
   "metadata": {},
   "outputs": [],
   "source": [
    "# primary memory: fast, volatile/temporary>> RAM\n",
    "# secondary memory: relatively slow, permanent>> HDD/SSD"
   ]
  },
  {
   "cell_type": "code",
   "execution_count": 3,
   "id": "df4580d9-4b62-4c9f-b75e-421ccd77b863",
   "metadata": {},
   "outputs": [],
   "source": [
    "# read and write"
   ]
  },
  {
   "cell_type": "code",
   "execution_count": 26,
   "id": "88e8c180-70e1-4b06-9a78-e32aee067eca",
   "metadata": {},
   "outputs": [],
   "source": [
    "file = open(\"sample_file.txt\",\"a\")"
   ]
  },
  {
   "cell_type": "code",
   "execution_count": 29,
   "id": "1629cb51-9e84-4254-822d-e730ac6041c0",
   "metadata": {},
   "outputs": [],
   "source": [
    "file.close()"
   ]
  },
  {
   "cell_type": "code",
   "execution_count": 24,
   "id": "1e9e98f9-fbd5-4528-b007-0f4158d63e84",
   "metadata": {},
   "outputs": [
    {
     "data": {
      "text/plain": [
       "13"
      ]
     },
     "execution_count": 24,
     "metadata": {},
     "output_type": "execute_result"
    }
   ],
   "source": [
    "file.write(\"Hello, world!\")"
   ]
  },
  {
   "cell_type": "code",
   "execution_count": 28,
   "id": "3b6bd416-6e4a-4261-97fc-0f0a84683513",
   "metadata": {},
   "outputs": [],
   "source": [
    "file.writelines([\"this is a python class\\n\",\"THIS IS THE SECOND LINE\"])"
   ]
  },
  {
   "cell_type": "code",
   "execution_count": 30,
   "id": "69e983b9-921e-44c7-b9e1-9fbe1dfacc91",
   "metadata": {},
   "outputs": [],
   "source": [
    "import requests\n",
    "url = \"https://www.mitconindia.com/wp-content/uploads/2021/10/Untitled-design-9.png\"\n",
    "result = requests.get(url)"
   ]
  },
  {
   "cell_type": "code",
   "execution_count": 31,
   "id": "3afd398b-ac71-42df-ae36-23313771f0e2",
   "metadata": {},
   "outputs": [],
   "source": [
    "with open(\"image_from_mitcon.png\",\"wb\") as image:\n",
    "    image.write(result.content)"
   ]
  },
  {
   "cell_type": "code",
   "execution_count": null,
   "id": "9cb9410b-cbc3-4042-912a-3692a9b7e4ac",
   "metadata": {},
   "outputs": [],
   "source": []
  }
 ],
 "metadata": {
  "kernelspec": {
   "display_name": "Python 3 (ipykernel)",
   "language": "python",
   "name": "python3"
  },
  "language_info": {
   "codemirror_mode": {
    "name": "ipython",
    "version": 3
   },
   "file_extension": ".py",
   "mimetype": "text/x-python",
   "name": "python",
   "nbconvert_exporter": "python",
   "pygments_lexer": "ipython3",
   "version": "3.11.2"
  }
 },
 "nbformat": 4,
 "nbformat_minor": 5
}
