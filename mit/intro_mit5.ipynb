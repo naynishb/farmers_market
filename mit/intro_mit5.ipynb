{
  "nbformat": 4,
  "nbformat_minor": 0,
  "metadata": {
    "colab": {
      "provenance": [],
      "authorship_tag": "ABX9TyOPLYj/HI8I5Bj1GHn1cZ2B",
      "include_colab_link": true
    },
    "kernelspec": {
      "name": "python3",
      "display_name": "Python 3"
    },
    "language_info": {
      "name": "python"
    }
  },
  "cells": [
    {
      "cell_type": "markdown",
      "metadata": {
        "id": "view-in-github",
        "colab_type": "text"
      },
      "source": [
        "<a href=\"https://colab.research.google.com/github/naynishb/farmers_market/blob/main/mit/intro_mit5.ipynb\" target=\"_parent\"><img src=\"https://colab.research.google.com/assets/colab-badge.svg\" alt=\"Open In Colab\"/></a>"
      ]
    },
    {
      "cell_type": "code",
      "execution_count": null,
      "metadata": {
        "colab": {
          "base_uri": "https://localhost:8080/"
        },
        "id": "jxHb-rm2m8Bm",
        "outputId": "2fdf994d-2e5b-449b-c2d0-85568e2697b5"
      },
      "outputs": [
        {
          "output_type": "stream",
          "name": "stdout",
          "text": [
            "Hello, world!\n"
          ]
        }
      ],
      "source": [
        "print(\"Hello, world!\")"
      ]
    },
    {
      "cell_type": "code",
      "source": [
        "print(5 + 6)"
      ],
      "metadata": {
        "colab": {
          "base_uri": "https://localhost:8080/"
        },
        "id": "KB7K-D03ndgj",
        "outputId": "bca74bab-f895-4fde-f2ba-87effe6d3c6a"
      },
      "execution_count": null,
      "outputs": [
        {
          "output_type": "stream",
          "name": "stdout",
          "text": [
            "11\n"
          ]
        }
      ]
    },
    {
      "cell_type": "code",
      "source": [
        "type(None)"
      ],
      "metadata": {
        "colab": {
          "base_uri": "https://localhost:8080/"
        },
        "id": "4rifqjiCn0Pb",
        "outputId": "3d31a928-fbbe-4a7f-a2b2-c8b35d8e3b3a"
      },
      "execution_count": null,
      "outputs": [
        {
          "output_type": "execute_result",
          "data": {
            "text/plain": [
              "NoneType"
            ]
          },
          "metadata": {},
          "execution_count": 22
        }
      ]
    },
    {
      "cell_type": "code",
      "source": [
        "None"
      ],
      "metadata": {
        "id": "63mq1UgMn0bO"
      },
      "execution_count": null,
      "outputs": []
    },
    {
      "cell_type": "code",
      "source": [
        "print(\"Naynish B\")"
      ],
      "metadata": {
        "colab": {
          "base_uri": "https://localhost:8080/"
        },
        "id": "YKKmaxrzp_gK",
        "outputId": "75bc2357-10e1-4dce-a12b-4bdc68514abc"
      },
      "execution_count": null,
      "outputs": [
        {
          "output_type": "stream",
          "name": "stdout",
          "text": [
            "Naynish B\n"
          ]
        }
      ]
    },
    {
      "cell_type": "code",
      "source": [
        "'''\n",
        "Naynish\n",
        "B\n",
        "'''"
      ],
      "metadata": {
        "colab": {
          "base_uri": "https://localhost:8080/",
          "height": 35
        },
        "id": "cCkQD7yyqb0l",
        "outputId": "a75a7c5f-f009-4835-e314-a48e804d7bd1"
      },
      "execution_count": null,
      "outputs": [
        {
          "output_type": "execute_result",
          "data": {
            "text/plain": [
              "'\\nNaynish\\nB\\n'"
            ],
            "application/vnd.google.colaboratory.intrinsic+json": {
              "type": "string"
            }
          },
          "metadata": {},
          "execution_count": 31
        }
      ]
    },
    {
      "cell_type": "code",
      "source": [
        "# commenting"
      ],
      "metadata": {
        "id": "5tY_jh-3rLzi"
      },
      "execution_count": null,
      "outputs": []
    },
    {
      "cell_type": "markdown",
      "source": [
        "\n",
        "1. **Question 1:**\n",
        "    \n",
        "    Write a Python program to print your name and favourite colour on two separate lines.\n"
      ],
      "metadata": {
        "id": "-64_OPEGsTzk"
      }
    },
    {
      "cell_type": "code",
      "source": [
        "print(\"Naynish \\n Green\")"
      ],
      "metadata": {
        "colab": {
          "base_uri": "https://localhost:8080/"
        },
        "id": "sIkJ3jP-sQvF",
        "outputId": "e96a6c28-d36e-4b03-c6a0-e2694a6a7a3e"
      },
      "execution_count": null,
      "outputs": [
        {
          "output_type": "stream",
          "name": "stdout",
          "text": [
            "Naynish \n",
            " Green\n"
          ]
        }
      ]
    },
    {
      "cell_type": "code",
      "source": [
        "'''\n",
        "Naynish\n",
        "green\n",
        "\n",
        "'''"
      ],
      "metadata": {
        "colab": {
          "base_uri": "https://localhost:8080/",
          "height": 35
        },
        "id": "JdgFnQGKsr1r",
        "outputId": "9bdacd88-be7d-4c35-d9a3-1e498a6dddae"
      },
      "execution_count": null,
      "outputs": [
        {
          "output_type": "execute_result",
          "data": {
            "text/plain": [
              "'\\nNaynish\\ngreen\\n\\n'"
            ],
            "application/vnd.google.colaboratory.intrinsic+json": {
              "type": "string"
            }
          },
          "metadata": {},
          "execution_count": 36
        }
      ]
    },
    {
      "cell_type": "code",
      "source": [
        "help(print)"
      ],
      "metadata": {
        "colab": {
          "base_uri": "https://localhost:8080/"
        },
        "id": "YHLrHBRls1Dz",
        "outputId": "90a99559-b226-43ee-99d3-50fb8bdde559"
      },
      "execution_count": null,
      "outputs": [
        {
          "output_type": "stream",
          "name": "stdout",
          "text": [
            "Help on built-in function print in module builtins:\n",
            "\n",
            "print(*args, sep=' ', end='\\n', file=None, flush=False)\n",
            "    Prints the values to a stream, or to sys.stdout by default.\n",
            "\n",
            "    sep\n",
            "      string inserted between values, default a space.\n",
            "    end\n",
            "      string appended after the last value, default a newline.\n",
            "    file\n",
            "      a file-like object (stream); defaults to the current sys.stdout.\n",
            "    flush\n",
            "      whether to forcibly flush the stream.\n",
            "\n"
          ]
        }
      ]
    },
    {
      "cell_type": "code",
      "source": [
        "print(\"data\",\"science\",7,7.5,True,None,sep = \"_\",end = \" ENDING \")"
      ],
      "metadata": {
        "colab": {
          "base_uri": "https://localhost:8080/"
        },
        "id": "IkxWltxos-im",
        "outputId": "02eeee5b-a7a9-46a3-bc06-1abbfe63d26d"
      },
      "execution_count": null,
      "outputs": [
        {
          "output_type": "stream",
          "name": "stdout",
          "text": [
            "data_science_7_7.5_True_None ENDING "
          ]
        }
      ]
    },
    {
      "cell_type": "code",
      "source": [
        "# variables"
      ],
      "metadata": {
        "id": "8dbSg0c5tuCp"
      },
      "execution_count": null,
      "outputs": []
    },
    {
      "cell_type": "code",
      "source": [
        "name = \"Naynish\""
      ],
      "metadata": {
        "id": "nZFV5Bc2y6aG"
      },
      "execution_count": null,
      "outputs": []
    },
    {
      "cell_type": "code",
      "source": [
        "print(\"Hello\",name)"
      ],
      "metadata": {
        "colab": {
          "base_uri": "https://localhost:8080/"
        },
        "id": "DkGHQpoezGaD",
        "outputId": "7a589f0c-09a9-4926-bf44-38678d213eb2"
      },
      "execution_count": null,
      "outputs": [
        {
          "output_type": "stream",
          "name": "stdout",
          "text": [
            "Hello Naynish\n"
          ]
        }
      ]
    },
    {
      "cell_type": "code",
      "source": [
        "name_1 = 1651"
      ],
      "metadata": {
        "id": "qhOlGCdOzJDl"
      },
      "execution_count": null,
      "outputs": []
    },
    {
      "cell_type": "code",
      "source": [
        "'''\n",
        "a-z\n",
        "A-Z\n",
        "0-9 NO FIRST CHAR\n",
        "#$%^&U* not allowed\n",
        "'''"
      ],
      "metadata": {
        "colab": {
          "base_uri": "https://localhost:8080/",
          "height": 35
        },
        "id": "bACpKtNvzgrT",
        "outputId": "e96e064b-6af7-4d5d-e326-fab30fa7038e"
      },
      "execution_count": null,
      "outputs": [
        {
          "output_type": "execute_result",
          "data": {
            "text/plain": [
              "'\\na-z\\nA-Z\\n0-9 NO FIRST CHAR\\n#$%^&U* not allowed\\n'"
            ],
            "application/vnd.google.colaboratory.intrinsic+json": {
              "type": "string"
            }
          },
          "metadata": {},
          "execution_count": 65
        }
      ]
    },
    {
      "cell_type": "code",
      "source": [
        "type(name_1)"
      ],
      "metadata": {
        "colab": {
          "base_uri": "https://localhost:8080/"
        },
        "id": "vSimqYn9zsgn",
        "outputId": "5509037c-ed49-473c-d9cd-cc905af6c909"
      },
      "execution_count": null,
      "outputs": [
        {
          "output_type": "execute_result",
          "data": {
            "text/plain": [
              "int"
            ]
          },
          "metadata": {},
          "execution_count": 73
        }
      ]
    },
    {
      "cell_type": "code",
      "source": [
        "Name = int(input(\"Enter your name: \"))"
      ],
      "metadata": {
        "colab": {
          "base_uri": "https://localhost:8080/"
        },
        "id": "pUlZ5iWfzzVG",
        "outputId": "9f4ed8e0-933f-4fd7-d51d-02c159ef7766"
      },
      "execution_count": null,
      "outputs": [
        {
          "name": "stdout",
          "output_type": "stream",
          "text": [
            "Enter your name: 1010\n"
          ]
        }
      ]
    },
    {
      "cell_type": "code",
      "source": [
        "Name"
      ],
      "metadata": {
        "colab": {
          "base_uri": "https://localhost:8080/"
        },
        "id": "uwNK8kcd1ojP",
        "outputId": "51b2d266-ab26-4275-bb02-3a8d8164d2b6"
      },
      "execution_count": null,
      "outputs": [
        {
          "output_type": "execute_result",
          "data": {
            "text/plain": [
              "1010"
            ]
          },
          "metadata": {},
          "execution_count": 85
        }
      ]
    },
    {
      "cell_type": "code",
      "source": [
        "science_marks = int(input(\"Enter your science marks: \"))\n",
        "maths_marks = int(input(\"Enter your maths marks: \"))\n",
        "total_marks = science_marks + maths_marks\n",
        "print(\"Your total marks is: \",total_marks)"
      ],
      "metadata": {
        "colab": {
          "base_uri": "https://localhost:8080/"
        },
        "id": "wFwaG3NR178G",
        "outputId": "0de74d78-c273-4520-d50f-8ec65d40b438"
      },
      "execution_count": null,
      "outputs": [
        {
          "output_type": "stream",
          "name": "stdout",
          "text": [
            "Enter your science marks: 70\n",
            "Enter your maths marks: 30\n",
            "Your total marks is:  100\n"
          ]
        }
      ]
    },
    {
      "cell_type": "code",
      "source": [
        "# arithmetic operators"
      ],
      "metadata": {
        "id": "CJPqYhrX3w8T"
      },
      "execution_count": null,
      "outputs": []
    },
    {
      "cell_type": "code",
      "source": [
        "4 + 5"
      ],
      "metadata": {
        "colab": {
          "base_uri": "https://localhost:8080/"
        },
        "id": "XM7-VCr64V_p",
        "outputId": "252d8a0c-ffb6-4908-c59d-37b6996316df"
      },
      "execution_count": null,
      "outputs": [
        {
          "output_type": "execute_result",
          "data": {
            "text/plain": [
              "9"
            ]
          },
          "metadata": {},
          "execution_count": 89
        }
      ]
    },
    {
      "cell_type": "code",
      "source": [
        "4 + 9.9"
      ],
      "metadata": {
        "colab": {
          "base_uri": "https://localhost:8080/"
        },
        "id": "qhf495Ec4Xcc",
        "outputId": "042f5e56-82ee-4089-dd02-8c8af925338c"
      },
      "execution_count": null,
      "outputs": [
        {
          "output_type": "execute_result",
          "data": {
            "text/plain": [
              "13.9"
            ]
          },
          "metadata": {},
          "execution_count": 90
        }
      ]
    },
    {
      "cell_type": "code",
      "source": [
        "7*2"
      ],
      "metadata": {
        "colab": {
          "base_uri": "https://localhost:8080/"
        },
        "id": "p6byGIgo48gp",
        "outputId": "f95f985b-f979-4538-c9d3-e172e62aa2f6"
      },
      "execution_count": null,
      "outputs": [
        {
          "output_type": "execute_result",
          "data": {
            "text/plain": [
              "14"
            ]
          },
          "metadata": {},
          "execution_count": 91
        }
      ]
    },
    {
      "cell_type": "code",
      "source": [
        "-10/3"
      ],
      "metadata": {
        "colab": {
          "base_uri": "https://localhost:8080/"
        },
        "id": "4nEujElj5XOL",
        "outputId": "4d938521-925d-44cd-a8ae-130a8de209c7"
      },
      "execution_count": null,
      "outputs": [
        {
          "output_type": "execute_result",
          "data": {
            "text/plain": [
              "-3.3333333333333335"
            ]
          },
          "metadata": {},
          "execution_count": 100
        }
      ]
    },
    {
      "cell_type": "code",
      "source": [
        "-10//3  # floored division"
      ],
      "metadata": {
        "colab": {
          "base_uri": "https://localhost:8080/"
        },
        "id": "-TKigAb-5Z-c",
        "outputId": "3ac74450-88c5-4874-b1e7-2e80f2b621ed"
      },
      "execution_count": null,
      "outputs": [
        {
          "output_type": "execute_result",
          "data": {
            "text/plain": [
              "-4"
            ]
          },
          "metadata": {},
          "execution_count": 102
        }
      ]
    },
    {
      "cell_type": "code",
      "source": [
        "10%3   # modulo"
      ],
      "metadata": {
        "colab": {
          "base_uri": "https://localhost:8080/"
        },
        "id": "sZCbTyqE5mJF",
        "outputId": "07025afc-7616-42b1-e26b-f76b503e76d2"
      },
      "execution_count": null,
      "outputs": [
        {
          "output_type": "execute_result",
          "data": {
            "text/plain": [
              "1"
            ]
          },
          "metadata": {},
          "execution_count": 97
        }
      ]
    },
    {
      "cell_type": "code",
      "source": [
        "import math"
      ],
      "metadata": {
        "id": "SjcK5rOS56qe"
      },
      "execution_count": null,
      "outputs": []
    },
    {
      "cell_type": "code",
      "source": [
        "math.ceil(10/3)"
      ],
      "metadata": {
        "colab": {
          "base_uri": "https://localhost:8080/"
        },
        "id": "TJZbAe8s7fkT",
        "outputId": "29f575c5-ec79-4e43-9e21-fe1a7db3eb8e"
      },
      "execution_count": null,
      "outputs": [
        {
          "output_type": "execute_result",
          "data": {
            "text/plain": [
              "4"
            ]
          },
          "metadata": {},
          "execution_count": 106
        }
      ]
    },
    {
      "cell_type": "code",
      "source": [
        "math.floor(10/3)"
      ],
      "metadata": {
        "colab": {
          "base_uri": "https://localhost:8080/"
        },
        "id": "1pLYrmD77iH1",
        "outputId": "f7ffce91-1ef8-433d-e61f-8b57b4695d3b"
      },
      "execution_count": null,
      "outputs": [
        {
          "output_type": "execute_result",
          "data": {
            "text/plain": [
              "3"
            ]
          },
          "metadata": {},
          "execution_count": 107
        }
      ]
    },
    {
      "cell_type": "code",
      "source": [
        "math.cbrt(125)"
      ],
      "metadata": {
        "colab": {
          "base_uri": "https://localhost:8080/"
        },
        "id": "33m09Exn71pZ",
        "outputId": "0476d2b9-53fc-45b5-a7e5-fda597d5d226"
      },
      "execution_count": null,
      "outputs": [
        {
          "output_type": "execute_result",
          "data": {
            "text/plain": [
              "5.0"
            ]
          },
          "metadata": {},
          "execution_count": 113
        }
      ]
    },
    {
      "cell_type": "code",
      "source": [
        "5**3"
      ],
      "metadata": {
        "colab": {
          "base_uri": "https://localhost:8080/"
        },
        "id": "ZD_AjmZO8ARZ",
        "outputId": "60139f9a-44fa-4a49-b472-3fa2fc5a4dee"
      },
      "execution_count": null,
      "outputs": [
        {
          "output_type": "execute_result",
          "data": {
            "text/plain": [
              "125"
            ]
          },
          "metadata": {},
          "execution_count": 110
        }
      ]
    },
    {
      "cell_type": "code",
      "source": [
        "# comparison operators"
      ],
      "metadata": {
        "id": "fU4HTNA88NA1"
      },
      "execution_count": null,
      "outputs": []
    },
    {
      "cell_type": "code",
      "source": [
        "50 == 50"
      ],
      "metadata": {
        "id": "Mexxp8Dc8kC3",
        "colab": {
          "base_uri": "https://localhost:8080/"
        },
        "outputId": "8d55e531-a237-4f58-dc21-7fa250a55f21"
      },
      "execution_count": null,
      "outputs": [
        {
          "output_type": "execute_result",
          "data": {
            "text/plain": [
              "True"
            ]
          },
          "metadata": {},
          "execution_count": 2
        }
      ]
    },
    {
      "cell_type": "code",
      "source": [
        "50 != 50"
      ],
      "metadata": {
        "colab": {
          "base_uri": "https://localhost:8080/"
        },
        "id": "3JUpt2Jt4T2S",
        "outputId": "01c47dfe-c88a-4369-e39e-3848c0f3df91"
      },
      "execution_count": null,
      "outputs": [
        {
          "output_type": "execute_result",
          "data": {
            "text/plain": [
              "False"
            ]
          },
          "metadata": {},
          "execution_count": 3
        }
      ]
    },
    {
      "cell_type": "code",
      "source": [
        "40 >= 40"
      ],
      "metadata": {
        "colab": {
          "base_uri": "https://localhost:8080/"
        },
        "id": "kHjfjUz14ZT1",
        "outputId": "d6ba9713-6710-4ab9-e2e0-2b6efd07ca7f"
      },
      "execution_count": null,
      "outputs": [
        {
          "output_type": "execute_result",
          "data": {
            "text/plain": [
              "True"
            ]
          },
          "metadata": {},
          "execution_count": 9
        }
      ]
    },
    {
      "cell_type": "code",
      "source": [
        "# assigmnment operators"
      ],
      "metadata": {
        "id": "p8ta7hi84ePs"
      },
      "execution_count": null,
      "outputs": []
    },
    {
      "cell_type": "code",
      "source": [
        "x = 6"
      ],
      "metadata": {
        "id": "UgbQvVRb47h0"
      },
      "execution_count": null,
      "outputs": []
    },
    {
      "cell_type": "code",
      "source": [
        "x =  x + 1"
      ],
      "metadata": {
        "id": "_DanxHGQ49Wz"
      },
      "execution_count": null,
      "outputs": []
    },
    {
      "cell_type": "code",
      "source": [
        "x"
      ],
      "metadata": {
        "colab": {
          "base_uri": "https://localhost:8080/"
        },
        "id": "mfpkuflf5Byd",
        "outputId": "df43e754-c418-424e-a631-54da62829e70"
      },
      "execution_count": null,
      "outputs": [
        {
          "output_type": "execute_result",
          "data": {
            "text/plain": [
              "6"
            ]
          },
          "metadata": {},
          "execution_count": 23
        }
      ]
    },
    {
      "cell_type": "code",
      "source": [
        "x **= 2"
      ],
      "metadata": {
        "id": "FYBREN7W5Cj0"
      },
      "execution_count": null,
      "outputs": []
    },
    {
      "cell_type": "code",
      "source": [
        "x"
      ],
      "metadata": {
        "colab": {
          "base_uri": "https://localhost:8080/"
        },
        "id": "NZ9dagmy5OYs",
        "outputId": "6f126a8e-1432-4c08-8ad3-13a410efb9d7"
      },
      "execution_count": null,
      "outputs": [
        {
          "output_type": "execute_result",
          "data": {
            "text/plain": [
              "1853020188851841.0"
            ]
          },
          "metadata": {},
          "execution_count": 61
        }
      ]
    },
    {
      "cell_type": "code",
      "source": [
        "# logical operators - and, or, not"
      ],
      "metadata": {
        "id": "WtvS0fBl5OyY"
      },
      "execution_count": null,
      "outputs": []
    },
    {
      "cell_type": "code",
      "source": [
        "50 == 50 and 40 == 40 and 30 != 30"
      ],
      "metadata": {
        "colab": {
          "base_uri": "https://localhost:8080/"
        },
        "id": "pfw7PYDm5_Q0",
        "outputId": "f7897fda-3fb3-42fa-99e3-9f152dbd8481"
      },
      "execution_count": null,
      "outputs": [
        {
          "output_type": "execute_result",
          "data": {
            "text/plain": [
              "False"
            ]
          },
          "metadata": {},
          "execution_count": 68
        }
      ]
    },
    {
      "cell_type": "code",
      "source": [
        "not (50 == 50 or 40 != 40 or 30 != 30)"
      ],
      "metadata": {
        "colab": {
          "base_uri": "https://localhost:8080/"
        },
        "id": "pf9CdxeB6A7g",
        "outputId": "8b087307-2f4d-4913-fac3-b90588041b4e"
      },
      "execution_count": null,
      "outputs": [
        {
          "output_type": "execute_result",
          "data": {
            "text/plain": [
              "False"
            ]
          },
          "metadata": {},
          "execution_count": 72
        }
      ]
    },
    {
      "cell_type": "code",
      "source": [
        "not True"
      ],
      "metadata": {
        "colab": {
          "base_uri": "https://localhost:8080/"
        },
        "id": "14w-96fi6Xnq",
        "outputId": "fba168c7-35e8-4c68-fbbc-b8324d0729f4"
      },
      "execution_count": null,
      "outputs": [
        {
          "output_type": "execute_result",
          "data": {
            "text/plain": [
              "False"
            ]
          },
          "metadata": {},
          "execution_count": 71
        }
      ]
    },
    {
      "cell_type": "markdown",
      "source": [
        "Write a program to check if you are eligible to apply for IIT\n",
        "you should compulsory have\n",
        "\n",
        "10th marks more than or equal to 70 <br>\n",
        "12th marks more than or equal to 70 <br>\n",
        "JEE marks more than or equal to 500\n"
      ],
      "metadata": {
        "id": "ixotNMeC7KpP"
      }
    },
    {
      "cell_type": "code",
      "source": [
        "tenth_marks = int(input(\"Enter your 10th marks: \"))\n",
        "twelveth_marks = int(input(\"Enter your 12th marks: \"))\n",
        "jee_marks = int(input(\"Enter your JEE marks: \"))\n",
        "\n",
        "if (tenth_marks >= 70) and (twelveth_marks >= 70) and (jee_marks >= 500):\n",
        "  print(\"You are eligible for IIT\")\n",
        "else:\n",
        "  print(\"You are not eligible for IIT\")"
      ],
      "metadata": {
        "colab": {
          "base_uri": "https://localhost:8080/"
        },
        "id": "Bswepc2A6lka",
        "outputId": "abbb8b1f-514f-449c-de3b-3c66a7797289"
      },
      "execution_count": null,
      "outputs": [
        {
          "output_type": "stream",
          "name": "stdout",
          "text": [
            "Enter your 10th marks: 71\n",
            "Enter your 12th marks: 72\n",
            "Enter your JEE marks: 510\n",
            "You are eligible for IIT\n"
          ]
        }
      ]
    },
    {
      "cell_type": "code",
      "source": [
        "# control statements"
      ],
      "metadata": {
        "id": "RlmNC3L77xRJ"
      },
      "execution_count": null,
      "outputs": []
    },
    {
      "cell_type": "code",
      "source": [
        "### Take a number from the user as input, and check if it is even or odd\n",
        "#- print accordingly"
      ],
      "metadata": {
        "id": "sPhsvp4q-A1P"
      },
      "execution_count": null,
      "outputs": []
    },
    {
      "cell_type": "code",
      "source": [
        "number = int(input(\"Enter a number: \"))\n",
        "if number % 2 == 0: # condition\n",
        "  print(\"Even\")  # value if true\n",
        "else:\n",
        "  print(\"Odd\")  # value if false"
      ],
      "metadata": {
        "colab": {
          "base_uri": "https://localhost:8080/"
        },
        "id": "hxgfMHwB-F-C",
        "outputId": "d7804581-562e-4f4c-a20e-47a3c3470a20"
      },
      "execution_count": null,
      "outputs": [
        {
          "output_type": "stream",
          "name": "stdout",
          "text": [
            "Enter a number: 7\n",
            "Odd\n"
          ]
        }
      ]
    },
    {
      "cell_type": "code",
      "source": [
        "## take a user input, whether the number is positive or negative, 0 as zero"
      ],
      "metadata": {
        "id": "XSuo4Cd7-Y6A"
      },
      "execution_count": null,
      "outputs": []
    },
    {
      "cell_type": "code",
      "source": [
        "number = int(input(\"Enter a number: \"))\n",
        "if number == 0:\n",
        "  print(\"Zero\")\n",
        "elif number > 0:\n",
        "  print(\"Positive\")\n",
        "else:\n",
        "  print(\"Negative\")"
      ],
      "metadata": {
        "colab": {
          "base_uri": "https://localhost:8080/"
        },
        "id": "sr2ubvU0-mSJ",
        "outputId": "b670fc4b-1fd2-46fa-85f6-2d1b63f70f39"
      },
      "execution_count": null,
      "outputs": [
        {
          "output_type": "stream",
          "name": "stdout",
          "text": [
            "Enter a number: 5\n",
            "Positive\n"
          ]
        }
      ]
    },
    {
      "cell_type": "code",
      "source": [
        "## age = input, < 18,print not eligbile to vote,\n",
        "##18 and 21, you can vote but cannot drink,\n",
        "## more than 21, you can vote and drink"
      ],
      "metadata": {
        "id": "1b4DW8AtBsgt"
      },
      "execution_count": null,
      "outputs": []
    },
    {
      "cell_type": "code",
      "source": [
        "# SOLVE THIS ^"
      ],
      "metadata": {
        "id": "xzSX-2cOFiCW"
      },
      "execution_count": null,
      "outputs": []
    },
    {
      "cell_type": "code",
      "source": [
        "age = int(input(\"Enter your age: \"))\n",
        "\n",
        "if age < 18:\n",
        "  print(\"you are not eligible to vote\")\n",
        "elif age >= 18 and age <= 21:\n",
        "  print(\"you can vote but cannot drink\")\n",
        "else:\n",
        "  print(\"you can vote and drink\")"
      ],
      "metadata": {
        "colab": {
          "base_uri": "https://localhost:8080/"
        },
        "id": "M6GxhZSpHSsR",
        "outputId": "29633384-fa0b-4ae5-f48d-d3284ab27a63"
      },
      "execution_count": null,
      "outputs": [
        {
          "output_type": "stream",
          "name": "stdout",
          "text": [
            "Enter your age: 50\n",
            "you can vote and drink\n"
          ]
        }
      ]
    },
    {
      "cell_type": "code",
      "source": [
        "age = int(input(\"Enter your age: \"))\n",
        "\n",
        "if age < 18:\n",
        "  print(\"you are not eligible to vote\")\n",
        "elif 18 <= age <= 21:\n",
        "  print(\"you can vote but cannot drink\")\n",
        "else:\n",
        "  print(\"you can vote and drink\")"
      ],
      "metadata": {
        "colab": {
          "base_uri": "https://localhost:8080/"
        },
        "id": "9RhuhfSMH2-b",
        "outputId": "171b7b4f-c671-4193-a494-01079b29381f"
      },
      "execution_count": null,
      "outputs": [
        {
          "output_type": "stream",
          "name": "stdout",
          "text": [
            "Enter your age: 19\n",
            "you can vote but cannot drink\n"
          ]
        }
      ]
    },
    {
      "cell_type": "markdown",
      "source": [
        "School grading system, user will input marks <br>\n",
        "marks more than 90: A <br>\n",
        "between 75 and 90 : B  (75 & 90 included) <br>\n",
        "between 50 and 75 : C  (50 included) <br>\n",
        "between 35 and 50 : D  (35 included) <br>\n",
        "less than 35 : F"
      ],
      "metadata": {
        "id": "xzQ0oEC1I-DG"
      }
    },
    {
      "cell_type": "code",
      "source": [
        "enter_marks = float(input(\"Enter your marks \"))\n",
        "\n",
        "if enter_marks > 90:\n",
        "  print(\"A\")\n",
        "elif 75 <= enter_marks <= 90:\n",
        "  print(\"B\")\n",
        "elif 50 <= enter_marks < 75:\n",
        "  print(\"C\")\n",
        "elif 35 <= enter_marks < 50:\n",
        "  print(\"D\")\n",
        "else:\n",
        "  print(\"F\")"
      ],
      "metadata": {
        "colab": {
          "base_uri": "https://localhost:8080/"
        },
        "id": "QJT_RA1GIpYw",
        "outputId": "8801f61a-b28e-4367-966f-f3575bc7ddfd"
      },
      "execution_count": null,
      "outputs": [
        {
          "output_type": "stream",
          "name": "stdout",
          "text": [
            "Enter your marks 70.5\n",
            "C\n"
          ]
        }
      ]
    },
    {
      "cell_type": "markdown",
      "source": [
        "\n",
        "Take an integer n as input. <br>\n",
        "if n is a multiple of only 3 --> print \"Fizz\" <br>\n",
        "else if n is a multiple of only 5 --> print \"Buzz\" <br>\n",
        "else if n is a multiple of both 3 and 5 --> print \"FizzBuzz\"\n"
      ],
      "metadata": {
        "id": "LgbC9HY3MGOu"
      }
    },
    {
      "cell_type": "code",
      "source": [
        "N = int(input(\"enter a number \"))\n",
        "\n",
        "if N % 3 == 0 and N % 5 == 0:\n",
        "  print(\"Fizzbuzz\")\n",
        "elif N % 5 == 0:\n",
        "  print(\"Buzz\")\n",
        "elif N % 3 == 0:\n",
        "  print(\"Fizz\")\n",
        "else:\n",
        "  print(\"Invalid input\")"
      ],
      "metadata": {
        "colab": {
          "base_uri": "https://localhost:8080/"
        },
        "id": "8J0Md0u6LxPr",
        "outputId": "2d8a8504-99b6-4645-b29e-f10c11dd8465"
      },
      "execution_count": null,
      "outputs": [
        {
          "output_type": "stream",
          "name": "stdout",
          "text": [
            "enter a number 17\n",
            "Invalid input\n"
          ]
        }
      ]
    },
    {
      "cell_type": "code",
      "source": [],
      "metadata": {
        "id": "d0-DqyU6M3dJ"
      },
      "execution_count": null,
      "outputs": []
    }
  ]
}