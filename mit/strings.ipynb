{
 "cells": [
  {
   "cell_type": "code",
   "execution_count": 1,
   "id": "dd62cda6-0542-4689-838a-8a5095289a41",
   "metadata": {},
   "outputs": [],
   "source": [
    "# strings"
   ]
  },
  {
   "cell_type": "code",
   "execution_count": 2,
   "id": "fc9136b9-9c6f-4d85-9111-61ee475996ae",
   "metadata": {},
   "outputs": [
    {
     "data": {
      "text/plain": [
       "'this is a python class'"
      ]
     },
     "execution_count": 2,
     "metadata": {},
     "output_type": "execute_result"
    }
   ],
   "source": [
    "\"this is a python class\""
   ]
  },
  {
   "cell_type": "code",
   "execution_count": 4,
   "id": "b48c15a8-3627-46a0-9e0d-fff574033a66",
   "metadata": {},
   "outputs": [],
   "source": [
    "name = \"string\"\n",
    "# 0 1 2 3 4 5"
   ]
  },
  {
   "cell_type": "code",
   "execution_count": 7,
   "id": "294c0d19-9249-4935-907b-00979439c56f",
   "metadata": {},
   "outputs": [
    {
     "data": {
      "text/plain": [
       "'irt'"
      ]
     },
     "execution_count": 7,
     "metadata": {},
     "output_type": "execute_result"
    }
   ],
   "source": [
    "name[3:0:-1]"
   ]
  },
  {
   "cell_type": "code",
   "execution_count": 8,
   "id": "7da137a0-42aa-4995-b86a-f8a6d184d7a1",
   "metadata": {},
   "outputs": [
    {
     "data": {
      "text/plain": [
       "True"
      ]
     },
     "execution_count": 8,
     "metadata": {},
     "output_type": "execute_result"
    }
   ],
   "source": [
    "\"ACH\" < \"ZCG\""
   ]
  },
  {
   "cell_type": "code",
   "execution_count": 9,
   "id": "1e4d69cd-2aa7-43b5-ac92-dc855042dd2c",
   "metadata": {},
   "outputs": [
    {
     "data": {
      "text/plain": [
       "65"
      ]
     },
     "execution_count": 9,
     "metadata": {},
     "output_type": "execute_result"
    }
   ],
   "source": [
    "ord(\"A\")"
   ]
  },
  {
   "cell_type": "code",
   "execution_count": 10,
   "id": "18378336-d07a-4dee-8b5e-5e6fe1457c64",
   "metadata": {},
   "outputs": [
    {
     "data": {
      "text/plain": [
       "'A'"
      ]
     },
     "execution_count": 10,
     "metadata": {},
     "output_type": "execute_result"
    }
   ],
   "source": [
    "chr(65)"
   ]
  },
  {
   "cell_type": "code",
   "execution_count": 11,
   "id": "4cc95a6c-27b4-46d3-8cb6-74fe16f560b9",
   "metadata": {},
   "outputs": [
    {
     "data": {
      "text/plain": [
       "'ABCDEF'"
      ]
     },
     "execution_count": 11,
     "metadata": {},
     "output_type": "execute_result"
    }
   ],
   "source": [
    "\"ABC\"  + \"DEF\""
   ]
  },
  {
   "cell_type": "code",
   "execution_count": 16,
   "id": "29aee618-02e6-4f9b-a88e-464584c7abda",
   "metadata": {},
   "outputs": [
    {
     "data": {
      "text/plain": [
       "'ABCABCABC'"
      ]
     },
     "execution_count": 16,
     "metadata": {},
     "output_type": "execute_result"
    }
   ],
   "source": [
    "\"ABC\"*3"
   ]
  },
  {
   "cell_type": "code",
   "execution_count": 17,
   "id": "59fb5588-4c19-4433-abec-3a99d3c8a60f",
   "metadata": {},
   "outputs": [
    {
     "data": {
      "text/plain": [
       "'😄'"
      ]
     },
     "execution_count": 17,
     "metadata": {},
     "output_type": "execute_result"
    }
   ],
   "source": [
    "\"\\U0001F604\""
   ]
  },
  {
   "cell_type": "code",
   "execution_count": 19,
   "id": "afc19a5a-179e-42cb-939b-95e7c71f8a13",
   "metadata": {},
   "outputs": [
    {
     "data": {
      "text/plain": [
       "'😃'"
      ]
     },
     "execution_count": 19,
     "metadata": {},
     "output_type": "execute_result"
    }
   ],
   "source": [
    "\"\\U0001F603\"\t"
   ]
  },
  {
   "cell_type": "code",
   "execution_count": 21,
   "id": "2ff89e64-3b8b-4741-8f55-acc01a2e598f",
   "metadata": {},
   "outputs": [
    {
     "data": {
      "text/plain": [
       "'string'"
      ]
     },
     "execution_count": 21,
     "metadata": {},
     "output_type": "execute_result"
    }
   ],
   "source": [
    "name"
   ]
  },
  {
   "cell_type": "code",
   "execution_count": 22,
   "id": "92e111c5-eb3c-488b-96b6-64bf00f06855",
   "metadata": {},
   "outputs": [
    {
     "data": {
      "text/plain": [
       "'this is a string'"
      ]
     },
     "execution_count": 22,
     "metadata": {},
     "output_type": "execute_result"
    }
   ],
   "source": [
    "f\"this is a {name}\""
   ]
  },
  {
   "cell_type": "code",
   "execution_count": 23,
   "id": "d59bbfe5-94e0-4777-96c0-4fcbc85b151b",
   "metadata": {},
   "outputs": [],
   "source": [
    "name1 = \"this is a python class\""
   ]
  },
  {
   "cell_type": "code",
   "execution_count": 27,
   "id": "a4b8f798-6888-4d02-9095-35979ca14920",
   "metadata": {},
   "outputs": [
    {
     "data": {
      "text/plain": [
       "['this', 'is', 'a', 'python', 'class']"
      ]
     },
     "execution_count": 27,
     "metadata": {},
     "output_type": "execute_result"
    }
   ],
   "source": [
    "name1.split()"
   ]
  },
  {
   "cell_type": "code",
   "execution_count": 28,
   "id": "6235fc66-8ac3-45b9-98e7-d6b221804188",
   "metadata": {},
   "outputs": [
    {
     "data": {
      "text/plain": [
       "'this_is_a_python_class'"
      ]
     },
     "execution_count": 28,
     "metadata": {},
     "output_type": "execute_result"
    }
   ],
   "source": [
    "\"_\".join(['this', 'is', 'a', 'python', 'class'])"
   ]
  },
  {
   "cell_type": "code",
   "execution_count": 39,
   "id": "1042da95-0b11-40b7-86bf-e120e7765f32",
   "metadata": {},
   "outputs": [
    {
     "data": {
      "text/plain": [
       "11"
      ]
     },
     "execution_count": 39,
     "metadata": {},
     "output_type": "execute_result"
    }
   ],
   "source": [
    "name1.find(\"y\")"
   ]
  },
  {
   "cell_type": "code",
   "execution_count": 43,
   "id": "daa949e6-ba6f-45f5-b0ce-620017d84cca",
   "metadata": {},
   "outputs": [
    {
     "data": {
      "text/plain": [
       "'this is a java class'"
      ]
     },
     "execution_count": 43,
     "metadata": {},
     "output_type": "execute_result"
    }
   ],
   "source": [
    "name1.replace(\"python\",\"java\")"
   ]
  },
  {
   "cell_type": "code",
   "execution_count": 44,
   "id": "9890ae62-ddcf-4fec-b3d1-c848e67425a1",
   "metadata": {},
   "outputs": [
    {
     "data": {
      "text/plain": [
       "'this is a python class'"
      ]
     },
     "execution_count": 44,
     "metadata": {},
     "output_type": "execute_result"
    }
   ],
   "source": [
    "name1"
   ]
  },
  {
   "cell_type": "code",
   "execution_count": 46,
   "id": "d9cc0e56-7a1e-420e-9b00-d6951cf6417d",
   "metadata": {},
   "outputs": [
    {
     "data": {
      "text/plain": [
       "True"
      ]
     },
     "execution_count": 46,
     "metadata": {},
     "output_type": "execute_result"
    }
   ],
   "source": [
    "\"45641\".isdigit()"
   ]
  },
  {
   "cell_type": "code",
   "execution_count": 49,
   "id": "05db8c20-df75-4107-9a5c-b2f816da32a8",
   "metadata": {},
   "outputs": [
    {
     "data": {
      "text/plain": [
       "True"
      ]
     },
     "execution_count": 49,
     "metadata": {},
     "output_type": "execute_result"
    }
   ],
   "source": [
    "\"sdft\".isalpha()"
   ]
  },
  {
   "cell_type": "code",
   "execution_count": 53,
   "id": "acbcc78c-54dd-4d1d-b239-063fcbf4f4fe",
   "metadata": {},
   "outputs": [
    {
     "data": {
      "text/plain": [
       "True"
      ]
     },
     "execution_count": 53,
     "metadata": {},
     "output_type": "execute_result"
    }
   ],
   "source": [
    "\"asdr454545sdft\".isalnum()"
   ]
  },
  {
   "cell_type": "code",
   "execution_count": 56,
   "id": "7ed3aa2c-1dad-4c30-bb80-246c9f021d09",
   "metadata": {},
   "outputs": [
    {
     "data": {
      "text/plain": [
       "True"
      ]
     },
     "execution_count": 56,
     "metadata": {},
     "output_type": "execute_result"
    }
   ],
   "source": [
    "\"sdfgh\".islower()"
   ]
  },
  {
   "cell_type": "code",
   "execution_count": 60,
   "id": "cc5dc634-5e86-4aa9-819e-2cb8a399c22c",
   "metadata": {},
   "outputs": [
    {
     "data": {
      "text/plain": [
       "True"
      ]
     },
     "execution_count": 60,
     "metadata": {},
     "output_type": "execute_result"
    }
   ],
   "source": [
    "\"SDFGFHGJH\".isupper()"
   ]
  },
  {
   "cell_type": "code",
   "execution_count": 63,
   "id": "f324a10e-b70f-404e-ab90-dbcaa09aa5ec",
   "metadata": {},
   "outputs": [
    {
     "data": {
      "text/plain": [
       "'ghkjdfgh'"
      ]
     },
     "execution_count": 63,
     "metadata": {},
     "output_type": "execute_result"
    }
   ],
   "source": [
    "\"GHKJdfgh\".lower()"
   ]
  },
  {
   "cell_type": "code",
   "execution_count": 64,
   "id": "ade96f07-dbfb-47a9-b9fc-0164173e3292",
   "metadata": {},
   "outputs": [
    {
     "data": {
      "text/plain": [
       "'GHKJDFGH'"
      ]
     },
     "execution_count": 64,
     "metadata": {},
     "output_type": "execute_result"
    }
   ],
   "source": [
    "\"GHKJdfgh\".upper()"
   ]
  },
  {
   "cell_type": "code",
   "execution_count": 65,
   "id": "cb2be051-c36d-4991-8a71-2f64cc9f08d1",
   "metadata": {},
   "outputs": [
    {
     "data": {
      "text/plain": [
       "'Ghkjdfgh'"
      ]
     },
     "execution_count": 65,
     "metadata": {},
     "output_type": "execute_result"
    }
   ],
   "source": [
    "\"GHKJdfgh\".title()"
   ]
  },
  {
   "cell_type": "code",
   "execution_count": 66,
   "id": "adb19a4e-3103-494a-93f4-cc05cfd9b50d",
   "metadata": {},
   "outputs": [
    {
     "data": {
      "text/plain": [
       "'ghkjDFGH'"
      ]
     },
     "execution_count": 66,
     "metadata": {},
     "output_type": "execute_result"
    }
   ],
   "source": [
    "\"GHKJdfgh\".swapcase()"
   ]
  },
  {
   "cell_type": "code",
   "execution_count": 70,
   "id": "02d0bb3a-3a3a-41fa-aee2-644fbda4e2f7",
   "metadata": {},
   "outputs": [
    {
     "data": {
      "text/plain": [
       "True"
      ]
     },
     "execution_count": 70,
     "metadata": {},
     "output_type": "execute_result"
    }
   ],
   "source": [
    "\"o\" in \"python\""
   ]
  },
  {
   "cell_type": "markdown",
   "id": "15d5617d-1eec-4abe-9b2d-b482c5dbc28a",
   "metadata": {},
   "source": [
    "You are given lowercase string (A) and you have to tell the count of vowels and consonants in it.else return `0`."
   ]
  },
  {
   "cell_type": "code",
   "execution_count": 77,
   "id": "6599bc45-2224-44f7-aba5-3d14ab8cb203",
   "metadata": {},
   "outputs": [],
   "source": [
    "def vowel_count(string_inp):\n",
    "    vowels = \"aeiou\"\n",
    "    vowels_count = 0\n",
    "    consonant_count = 0\n",
    "    for i in string_inp.lower():\n",
    "        if i in vowels:\n",
    "            vowels_count += 1\n",
    "        elif i.isalpha():\n",
    "            consonant_count += 1\n",
    "    return f\"Vowel count is {vowels_count} and consonant count is {consonant_count}\""
   ]
  },
  {
   "cell_type": "code",
   "execution_count": 79,
   "id": "cb41087b-3448-4dfd-a580-b8b7f9916021",
   "metadata": {},
   "outputs": [
    {
     "data": {
      "text/plain": [
       "'Vowel count is 2 and consonant count is 5'"
      ]
     },
     "execution_count": 79,
     "metadata": {},
     "output_type": "execute_result"
    }
   ],
   "source": [
    "vowel_count(\"naynish\")"
   ]
  },
  {
   "cell_type": "markdown",
   "id": "82729c1f-68ab-48a6-9b33-37c9d2a77c0c",
   "metadata": {},
   "source": [
    "___\n",
    "Write a program to check whether two given strings are anagrams or not. Return **True** if the strings are anagrams else return **False.**\n",
    "\n",
    "**Note:** An anagram of a string is another string that contains the same characters, only the order of characters can be different."
   ]
  },
  {
   "cell_type": "code",
   "execution_count": 82,
   "id": "5e1fca51-c8e2-486c-9073-16d0971b7383",
   "metadata": {},
   "outputs": [
    {
     "data": {
      "text/plain": [
       "['e', 'i', 'l', 'n', 's', 't']"
      ]
     },
     "execution_count": 82,
     "metadata": {},
     "output_type": "execute_result"
    }
   ],
   "source": [
    "sorted(\"listen\")"
   ]
  },
  {
   "cell_type": "code",
   "execution_count": 83,
   "id": "60d53488-b3ae-44c7-a91f-f766d8a0bb82",
   "metadata": {},
   "outputs": [
    {
     "data": {
      "text/plain": [
       "['e', 'i', 'l', 'n', 's', 't']"
      ]
     },
     "execution_count": 83,
     "metadata": {},
     "output_type": "execute_result"
    }
   ],
   "source": [
    "sorted(\"silent\")"
   ]
  },
  {
   "cell_type": "code",
   "execution_count": 89,
   "id": "bfbe3415-0141-44e0-bc4b-c32e262b3ec8",
   "metadata": {},
   "outputs": [],
   "source": [
    "def anagrams(string1,string2):\n",
    "    if sorted(string1.lower()) == sorted(string2.lower()):\n",
    "        return \"these are anagrams\"\n",
    "    else:\n",
    "        return \"these are NOT anagrams\""
   ]
  },
  {
   "cell_type": "code",
   "execution_count": 90,
   "id": "88777c67-abfa-40a2-ac98-99ab6d35216c",
   "metadata": {},
   "outputs": [
    {
     "data": {
      "text/plain": [
       "'these are anagrams'"
      ]
     },
     "execution_count": 90,
     "metadata": {},
     "output_type": "execute_result"
    }
   ],
   "source": [
    "anagrams(\"listen\",\"SILENT\")"
   ]
  },
  {
   "cell_type": "code",
   "execution_count": 91,
   "id": "8be90bbd-5189-4f3d-978e-d356f016b116",
   "metadata": {},
   "outputs": [
    {
     "data": {
      "text/plain": [
       "'dsfgh'"
      ]
     },
     "execution_count": 91,
     "metadata": {},
     "output_type": "execute_result"
    }
   ],
   "source": [
    "\"  dsfgh   \".strip()"
   ]
  },
  {
   "cell_type": "code",
   "execution_count": 93,
   "id": "b9b15882-a69e-4f3e-8f33-a61f847abf5a",
   "metadata": {},
   "outputs": [
    {
     "data": {
      "text/plain": [
       "'radar'"
      ]
     },
     "execution_count": 93,
     "metadata": {},
     "output_type": "execute_result"
    }
   ],
   "source": [
    "\"radar\"[::-1]"
   ]
  },
  {
   "cell_type": "code",
   "execution_count": 100,
   "id": "83ffd28e-fa6e-43e2-b9c3-4e4447fed519",
   "metadata": {},
   "outputs": [],
   "source": [
    "def anagrams(string_input):\n",
    "    if string_input.lower() == string_input.lower()[::-1]:\n",
    "        return \"this a palindrome\"\n",
    "    else:\n",
    "        return \"this a NOT palindrome\""
   ]
  },
  {
   "cell_type": "code",
   "execution_count": 101,
   "id": "d1011e10-7b0b-44fd-8e30-4bb0d994e661",
   "metadata": {},
   "outputs": [
    {
     "data": {
      "text/plain": [
       "'this a palindrome'"
      ]
     },
     "execution_count": 101,
     "metadata": {},
     "output_type": "execute_result"
    }
   ],
   "source": [
    "anagrams(\"RADar\")"
   ]
  },
  {
   "cell_type": "code",
   "execution_count": null,
   "id": "ec35f430-b7d8-4369-90a7-c0d11a2c9def",
   "metadata": {},
   "outputs": [],
   "source": []
  }
 ],
 "metadata": {
  "kernelspec": {
   "display_name": "Python 3 (ipykernel)",
   "language": "python",
   "name": "python3"
  },
  "language_info": {
   "codemirror_mode": {
    "name": "ipython",
    "version": 3
   },
   "file_extension": ".py",
   "mimetype": "text/x-python",
   "name": "python",
   "nbconvert_exporter": "python",
   "pygments_lexer": "ipython3",
   "version": "3.11.2"
  }
 },
 "nbformat": 4,
 "nbformat_minor": 5
}
