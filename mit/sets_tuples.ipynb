{
 "cells": [
  {
   "cell_type": "code",
   "execution_count": 1,
   "id": "145b01aa-eccb-452a-a2a0-07a6c4378b37",
   "metadata": {},
   "outputs": [],
   "source": [
    "# mutability"
   ]
  },
  {
   "cell_type": "code",
   "execution_count": 2,
   "id": "be6b541b-4497-41dc-8f23-6ee9988483ae",
   "metadata": {},
   "outputs": [],
   "source": [
    "variable = 45"
   ]
  },
  {
   "cell_type": "code",
   "execution_count": 3,
   "id": "ccc8c46e-8d01-4a06-9228-1662999c794f",
   "metadata": {},
   "outputs": [
    {
     "data": {
      "text/plain": [
       "140731243034792"
      ]
     },
     "execution_count": 3,
     "metadata": {},
     "output_type": "execute_result"
    }
   ],
   "source": [
    "id(variable)"
   ]
  },
  {
   "cell_type": "code",
   "execution_count": 4,
   "id": "32183068-78ab-4107-bf8b-03b739c2e346",
   "metadata": {},
   "outputs": [],
   "source": [
    "variable = 50"
   ]
  },
  {
   "cell_type": "code",
   "execution_count": 5,
   "id": "74e417ce-75bb-409c-8082-288e5e4e6606",
   "metadata": {},
   "outputs": [
    {
     "data": {
      "text/plain": [
       "140731243034952"
      ]
     },
     "execution_count": 5,
     "metadata": {},
     "output_type": "execute_result"
    }
   ],
   "source": [
    "id(variable)"
   ]
  },
  {
   "cell_type": "code",
   "execution_count": 6,
   "id": "04ff7ca5-375c-4532-8cd4-7f05d3d58f9f",
   "metadata": {},
   "outputs": [
    {
     "data": {
      "text/plain": [
       "50"
      ]
     },
     "execution_count": 6,
     "metadata": {},
     "output_type": "execute_result"
    }
   ],
   "source": [
    "variable"
   ]
  },
  {
   "cell_type": "code",
   "execution_count": 8,
   "id": "36bdf3a4-aeb3-4f62-b23e-974400111f4d",
   "metadata": {},
   "outputs": [
    {
     "data": {
      "text/plain": [
       "50"
      ]
     },
     "execution_count": 8,
     "metadata": {},
     "output_type": "execute_result"
    }
   ],
   "source": [
    "variable"
   ]
  },
  {
   "cell_type": "code",
   "execution_count": 9,
   "id": "9df41b4c-1b2e-4c8e-a0b1-0d477bc76b22",
   "metadata": {},
   "outputs": [],
   "source": [
    "list3 = [1,2,3,4]"
   ]
  },
  {
   "cell_type": "code",
   "execution_count": 17,
   "id": "2c350f13-065c-4b28-b821-5e72925e8a54",
   "metadata": {},
   "outputs": [],
   "source": [
    "list3[0] = 100"
   ]
  },
  {
   "cell_type": "code",
   "execution_count": 10,
   "id": "2e7bd228-ba6f-44ef-95b1-d4aefecf1c1a",
   "metadata": {},
   "outputs": [
    {
     "data": {
      "text/plain": [
       "1781869562304"
      ]
     },
     "execution_count": 10,
     "metadata": {},
     "output_type": "execute_result"
    }
   ],
   "source": [
    "id(list3)"
   ]
  },
  {
   "cell_type": "code",
   "execution_count": 11,
   "id": "c98aacf4-21a7-4dd9-b46d-a48ce3149125",
   "metadata": {},
   "outputs": [],
   "source": [
    "list3.append(5)"
   ]
  },
  {
   "cell_type": "code",
   "execution_count": 18,
   "id": "04562396-5d81-4899-a6a8-87505b330923",
   "metadata": {},
   "outputs": [
    {
     "data": {
      "text/plain": [
       "[100, 2, 3, 4, 5]"
      ]
     },
     "execution_count": 18,
     "metadata": {},
     "output_type": "execute_result"
    }
   ],
   "source": [
    "list3"
   ]
  },
  {
   "cell_type": "code",
   "execution_count": 13,
   "id": "fcf11b3e-17b1-40ab-9675-806ddd1a6201",
   "metadata": {},
   "outputs": [
    {
     "data": {
      "text/plain": [
       "1781869562304"
      ]
     },
     "execution_count": 13,
     "metadata": {},
     "output_type": "execute_result"
    }
   ],
   "source": [
    "id(list3)"
   ]
  },
  {
   "cell_type": "code",
   "execution_count": 14,
   "id": "34583f30-7533-495e-9776-e171736b4870",
   "metadata": {},
   "outputs": [],
   "source": [
    "tuple1 = (1,2,3,4)"
   ]
  },
  {
   "cell_type": "code",
   "execution_count": 15,
   "id": "64798218-fb22-498b-ad21-88c5a69531dc",
   "metadata": {},
   "outputs": [
    {
     "data": {
      "text/plain": [
       "tuple"
      ]
     },
     "execution_count": 15,
     "metadata": {},
     "output_type": "execute_result"
    }
   ],
   "source": [
    "type(tuple1)"
   ]
  },
  {
   "cell_type": "code",
   "execution_count": 21,
   "id": "73c54983-eb2c-4a8c-a403-ae494894776c",
   "metadata": {},
   "outputs": [],
   "source": [
    "# tuple1[0] = 100"
   ]
  },
  {
   "cell_type": "code",
   "execution_count": 22,
   "id": "200ae341-c849-4141-8ab9-2f76e9cad303",
   "metadata": {},
   "outputs": [
    {
     "data": {
      "text/plain": [
       "(1, 2, 3, 4)"
      ]
     },
     "execution_count": 22,
     "metadata": {},
     "output_type": "execute_result"
    }
   ],
   "source": [
    "tuple1"
   ]
  },
  {
   "cell_type": "code",
   "execution_count": 23,
   "id": "3687ba89-34d5-4f42-bea2-808f2a0cc6dc",
   "metadata": {},
   "outputs": [
    {
     "data": {
      "text/plain": [
       "3"
      ]
     },
     "execution_count": 23,
     "metadata": {},
     "output_type": "execute_result"
    }
   ],
   "source": [
    "tuple1[2]"
   ]
  },
  {
   "cell_type": "code",
   "execution_count": 24,
   "id": "b210e58a-36fd-4b9a-8ca7-8417ba190804",
   "metadata": {},
   "outputs": [
    {
     "data": {
      "text/plain": [
       "(1, 2)"
      ]
     },
     "execution_count": 24,
     "metadata": {},
     "output_type": "execute_result"
    }
   ],
   "source": [
    "tuple1[0:2]"
   ]
  },
  {
   "cell_type": "code",
   "execution_count": 25,
   "id": "d25c789a-e83d-4a2b-b537-3da5ac141eea",
   "metadata": {},
   "outputs": [
    {
     "name": "stdout",
     "output_type": "stream",
     "text": [
      "1\n",
      "2\n",
      "3\n",
      "4\n"
     ]
    }
   ],
   "source": [
    "for i in tuple1:\n",
    "    print(i)"
   ]
  },
  {
   "cell_type": "code",
   "execution_count": 28,
   "id": "01c3f30a-83e1-40b0-a9e2-6931b8d0e206",
   "metadata": {},
   "outputs": [
    {
     "data": {
      "text/plain": [
       "1"
      ]
     },
     "execution_count": 28,
     "metadata": {},
     "output_type": "execute_result"
    }
   ],
   "source": [
    "tuple1.index(2)"
   ]
  },
  {
   "cell_type": "code",
   "execution_count": 29,
   "id": "55ee86df-8d7b-4531-8c56-b3c2300d7563",
   "metadata": {},
   "outputs": [],
   "source": [
    "def funncc():\n",
    "    return 100,200,300"
   ]
  },
  {
   "cell_type": "code",
   "execution_count": 37,
   "id": "373028ce-21e2-4cff-a7f2-c9839cec922e",
   "metadata": {},
   "outputs": [],
   "source": [
    "hundred,two_hundred,three_hundred = funncc()"
   ]
  },
  {
   "cell_type": "code",
   "execution_count": 38,
   "id": "75c452b0-b6d4-4808-8a42-be5a14cb4cb4",
   "metadata": {},
   "outputs": [
    {
     "data": {
      "text/plain": [
       "100"
      ]
     },
     "execution_count": 38,
     "metadata": {},
     "output_type": "execute_result"
    }
   ],
   "source": [
    "hundred"
   ]
  },
  {
   "cell_type": "code",
   "execution_count": 39,
   "id": "dd08050f-826d-44ed-839d-bca0ce79eda7",
   "metadata": {},
   "outputs": [
    {
     "data": {
      "text/plain": [
       "200"
      ]
     },
     "execution_count": 39,
     "metadata": {},
     "output_type": "execute_result"
    }
   ],
   "source": [
    "two_hundred"
   ]
  },
  {
   "cell_type": "code",
   "execution_count": 40,
   "id": "d8ab6a01-4291-41e1-b879-596146a1c8ac",
   "metadata": {},
   "outputs": [
    {
     "data": {
      "text/plain": [
       "300"
      ]
     },
     "execution_count": 40,
     "metadata": {},
     "output_type": "execute_result"
    }
   ],
   "source": [
    "three_hundred"
   ]
  },
  {
   "cell_type": "code",
   "execution_count": 41,
   "id": "781d0753-245d-4259-947f-4cb382b8d656",
   "metadata": {},
   "outputs": [],
   "source": [
    "hundred,two_hundred,three_hundred = [100,200,300]"
   ]
  },
  {
   "cell_type": "code",
   "execution_count": 42,
   "id": "8e4aa4b2-5289-45d1-a87c-e1596a8feb1d",
   "metadata": {},
   "outputs": [
    {
     "data": {
      "text/plain": [
       "100"
      ]
     },
     "execution_count": 42,
     "metadata": {},
     "output_type": "execute_result"
    }
   ],
   "source": [
    "hundred"
   ]
  },
  {
   "cell_type": "code",
   "execution_count": 43,
   "id": "bf29f644-56e4-479e-a976-8802a07993e6",
   "metadata": {},
   "outputs": [],
   "source": [
    "# sets"
   ]
  },
  {
   "cell_type": "code",
   "execution_count": 44,
   "id": "59ad3e1c-3abc-43fb-bd0a-f2352af4487b",
   "metadata": {},
   "outputs": [],
   "source": [
    "set1 = {100,1,2,3,4,5,6,6,1,2}"
   ]
  },
  {
   "cell_type": "code",
   "execution_count": 45,
   "id": "17d3d7c1-d688-4d60-a26e-5bd8b577e87a",
   "metadata": {},
   "outputs": [
    {
     "data": {
      "text/plain": [
       "{1, 2, 3, 4, 5, 6, 100}"
      ]
     },
     "execution_count": 45,
     "metadata": {},
     "output_type": "execute_result"
    }
   ],
   "source": [
    "set1"
   ]
  },
  {
   "cell_type": "code",
   "execution_count": 46,
   "id": "261fad00-d53f-4c6c-974e-aa2ed5c97f24",
   "metadata": {},
   "outputs": [],
   "source": [
    "list5 = [100,55,10]"
   ]
  },
  {
   "cell_type": "code",
   "execution_count": 47,
   "id": "d8587f0d-5029-4a52-a553-4bd6623054db",
   "metadata": {},
   "outputs": [
    {
     "data": {
      "text/plain": [
       "[100, 55, 10]"
      ]
     },
     "execution_count": 47,
     "metadata": {},
     "output_type": "execute_result"
    }
   ],
   "source": [
    "list5"
   ]
  },
  {
   "cell_type": "code",
   "execution_count": 50,
   "id": "03f45cfd-5578-4631-a8a7-6208034b3263",
   "metadata": {},
   "outputs": [],
   "source": [
    "set2 = {\"g\",\"h\",\"h\",\"a\"}"
   ]
  },
  {
   "cell_type": "code",
   "execution_count": 51,
   "id": "6ce6be08-c6b6-40e1-ad56-af4883eac888",
   "metadata": {},
   "outputs": [
    {
     "data": {
      "text/plain": [
       "{'a', 'g', 'h'}"
      ]
     },
     "execution_count": 51,
     "metadata": {},
     "output_type": "execute_result"
    }
   ],
   "source": [
    "set2"
   ]
  },
  {
   "cell_type": "code",
   "execution_count": 55,
   "id": "ee8ef60e-754e-423c-95c0-5b2d4d61466c",
   "metadata": {},
   "outputs": [
    {
     "name": "stdout",
     "output_type": "stream",
     "text": [
      "1\n",
      "2\n",
      "3\n",
      "100\n",
      "4\n",
      "5\n",
      "6\n"
     ]
    }
   ],
   "source": [
    "for i in set1:\n",
    "    print(i)"
   ]
  },
  {
   "cell_type": "code",
   "execution_count": 56,
   "id": "24ebf208-3b8e-494c-98fc-b46d17a75a9f",
   "metadata": {},
   "outputs": [
    {
     "data": {
      "text/plain": [
       "{1, 2, 3, 4, 5, 6, 100}"
      ]
     },
     "execution_count": 56,
     "metadata": {},
     "output_type": "execute_result"
    }
   ],
   "source": [
    "set1"
   ]
  },
  {
   "cell_type": "code",
   "execution_count": 58,
   "id": "346862e6-3773-45e8-9bca-4f8b07b12827",
   "metadata": {},
   "outputs": [],
   "source": [
    "# set1[0]"
   ]
  },
  {
   "cell_type": "code",
   "execution_count": 59,
   "id": "10e36d69-f27f-4baf-b31a-7b87c263bcd3",
   "metadata": {},
   "outputs": [],
   "source": [
    "set1.add(1000)"
   ]
  },
  {
   "cell_type": "code",
   "execution_count": 60,
   "id": "3259f9bc-e735-40f5-9472-ce84ced68085",
   "metadata": {},
   "outputs": [
    {
     "data": {
      "text/plain": [
       "{1, 2, 3, 4, 5, 6, 100, 1000}"
      ]
     },
     "execution_count": 60,
     "metadata": {},
     "output_type": "execute_result"
    }
   ],
   "source": [
    "set1"
   ]
  },
  {
   "cell_type": "code",
   "execution_count": 64,
   "id": "2d33f8e7-8959-4a3c-9c87-ba29591e280d",
   "metadata": {},
   "outputs": [],
   "source": [
    "# set1.remove(100)"
   ]
  },
  {
   "cell_type": "code",
   "execution_count": 62,
   "id": "e918b692-1be1-41be-b6a0-a5139a1ea2b5",
   "metadata": {},
   "outputs": [
    {
     "data": {
      "text/plain": [
       "{1, 2, 3, 4, 5, 6, 1000}"
      ]
     },
     "execution_count": 62,
     "metadata": {},
     "output_type": "execute_result"
    }
   ],
   "source": [
    "set1"
   ]
  },
  {
   "cell_type": "code",
   "execution_count": 65,
   "id": "c5fa7cca-ee70-4e90-b02e-47209ac2ed32",
   "metadata": {},
   "outputs": [],
   "source": [
    "set1.discard(100)"
   ]
  },
  {
   "cell_type": "code",
   "execution_count": 66,
   "id": "a02192c8-6186-4a69-a16a-2d0cd798cd26",
   "metadata": {},
   "outputs": [],
   "source": [
    "set_A = {1,2,3}\n",
    "set_B = {3,4,5}"
   ]
  },
  {
   "cell_type": "code",
   "execution_count": 67,
   "id": "9cc0ef9f-bd0a-417b-b70e-4764971b02c4",
   "metadata": {},
   "outputs": [
    {
     "data": {
      "text/plain": [
       "{3}"
      ]
     },
     "execution_count": 67,
     "metadata": {},
     "output_type": "execute_result"
    }
   ],
   "source": [
    "set_A.intersection(set_B)"
   ]
  },
  {
   "cell_type": "code",
   "execution_count": 68,
   "id": "6e73fd41-3865-4401-bdc5-0f6e2b40a039",
   "metadata": {},
   "outputs": [
    {
     "data": {
      "text/plain": [
       "{3}"
      ]
     },
     "execution_count": 68,
     "metadata": {},
     "output_type": "execute_result"
    }
   ],
   "source": [
    "set_A & set_B"
   ]
  },
  {
   "cell_type": "code",
   "execution_count": 69,
   "id": "c560d159-1445-4067-a7a6-df15718fd744",
   "metadata": {},
   "outputs": [
    {
     "data": {
      "text/plain": [
       "{1, 2, 3, 4, 5}"
      ]
     },
     "execution_count": 69,
     "metadata": {},
     "output_type": "execute_result"
    }
   ],
   "source": [
    "set_A.union(set_B)"
   ]
  },
  {
   "cell_type": "code",
   "execution_count": 70,
   "id": "96603a39-bf35-4cf7-86a0-70574339b562",
   "metadata": {},
   "outputs": [
    {
     "data": {
      "text/plain": [
       "{1, 2, 3, 4, 5}"
      ]
     },
     "execution_count": 70,
     "metadata": {},
     "output_type": "execute_result"
    }
   ],
   "source": [
    "set_A | set_B"
   ]
  },
  {
   "cell_type": "code",
   "execution_count": 71,
   "id": "ff23ea9a-fa71-4ace-b131-37c37e30208d",
   "metadata": {},
   "outputs": [
    {
     "data": {
      "text/plain": [
       "{1, 2}"
      ]
     },
     "execution_count": 71,
     "metadata": {},
     "output_type": "execute_result"
    }
   ],
   "source": [
    "set_A.difference(set_B)"
   ]
  },
  {
   "cell_type": "code",
   "execution_count": 72,
   "id": "34413480-986f-4f2f-bceb-8a3eb7d07758",
   "metadata": {},
   "outputs": [
    {
     "data": {
      "text/plain": [
       "{4, 5}"
      ]
     },
     "execution_count": 72,
     "metadata": {},
     "output_type": "execute_result"
    }
   ],
   "source": [
    "set_B.difference(set_A)"
   ]
  },
  {
   "cell_type": "code",
   "execution_count": 73,
   "id": "b3a58ad4-6af5-4c7f-88f3-e01c586c42f5",
   "metadata": {},
   "outputs": [
    {
     "data": {
      "text/plain": [
       "{1, 2, 4, 5}"
      ]
     },
     "execution_count": 73,
     "metadata": {},
     "output_type": "execute_result"
    }
   ],
   "source": [
    "set_A.symmetric_difference(set_B)"
   ]
  },
  {
   "cell_type": "code",
   "execution_count": 74,
   "id": "e14864af-bca4-4625-ba6b-916d6c7c01b9",
   "metadata": {},
   "outputs": [],
   "source": [
    "setA = {1,2}\n",
    "setB = {1,2,3}"
   ]
  },
  {
   "cell_type": "code",
   "execution_count": 75,
   "id": "9cc15951-aee9-4268-976d-163ba01816ab",
   "metadata": {},
   "outputs": [
    {
     "data": {
      "text/plain": [
       "True"
      ]
     },
     "execution_count": 75,
     "metadata": {},
     "output_type": "execute_result"
    }
   ],
   "source": [
    "setA.issubset(setB)"
   ]
  },
  {
   "cell_type": "code",
   "execution_count": 76,
   "id": "2193e42b-c112-4b2b-afc2-ea44fa477dc3",
   "metadata": {},
   "outputs": [
    {
     "data": {
      "text/plain": [
       "False"
      ]
     },
     "execution_count": 76,
     "metadata": {},
     "output_type": "execute_result"
    }
   ],
   "source": [
    "setA.issuperset(setB)"
   ]
  },
  {
   "cell_type": "markdown",
   "id": "9eb79073-63aa-41d2-9d10-d0867b2a59e7",
   "metadata": {},
   "source": [
    "1. **Remove Duplicates from a List**:\n",
    "    - **Problem**: Given a list, return a new list with duplicates removed.\n",
    "    - **Example**: For `[1, 2, 2, 3, 4, 4]`, return `[1, 2, 3, 4]`."
   ]
  },
  {
   "cell_type": "code",
   "execution_count": 77,
   "id": "6673c60d-3af1-40c0-8445-74a790025a26",
   "metadata": {},
   "outputs": [
    {
     "data": {
      "text/plain": [
       "{1, 2, 3, 4}"
      ]
     },
     "execution_count": 77,
     "metadata": {},
     "output_type": "execute_result"
    }
   ],
   "source": [
    "set([1, 2, 2, 3, 4, 4])"
   ]
  },
  {
   "cell_type": "code",
   "execution_count": 78,
   "id": "bcd71963-c27f-4e56-a729-d5c187a5bee5",
   "metadata": {},
   "outputs": [
    {
     "data": {
      "text/plain": [
       "[1, 2, 3, 4]"
      ]
     },
     "execution_count": 78,
     "metadata": {},
     "output_type": "execute_result"
    }
   ],
   "source": [
    "list({1, 2, 3, 4})"
   ]
  },
  {
   "cell_type": "markdown",
   "id": "5f8b85d4-52d4-45ca-917f-50d5fcf22766",
   "metadata": {},
   "source": [
    "4. **Count Distinct Words in a Sentence**:\n",
    "    - **Problem**: Given a sentence as a string, return the count of distinct words.\n",
    "    - **Example**: For `\"the cat and the hat\"`, return `4`."
   ]
  },
  {
   "cell_type": "code",
   "execution_count": 84,
   "id": "da1a7957-d772-4b38-bcd0-50dfc2ad909e",
   "metadata": {},
   "outputs": [
    {
     "data": {
      "text/plain": [
       "4"
      ]
     },
     "execution_count": 84,
     "metadata": {},
     "output_type": "execute_result"
    }
   ],
   "source": [
    "len(set(\"the cat and the hat\".split()))"
   ]
  },
  {
   "cell_type": "markdown",
   "id": "855b2065-cbba-46a5-bc34-4d96f760af4a",
   "metadata": {},
   "source": [
    "2. **Find Common Elements Between Two Lists**:a \n",
    "    - **Problem**: Given two lists, find and return their intersection (common elements).\n",
    "    - **Example**: For `[1, 2, 3]` and `[2, 3, 4]`, the result should be `{2, 3}`."
   ]
  },
  {
   "cell_type": "code",
   "execution_count": 85,
   "id": "95b773f9-0477-485a-b881-8f58f720f5a0",
   "metadata": {},
   "outputs": [
    {
     "data": {
      "text/plain": [
       "{2, 3}"
      ]
     },
     "execution_count": 85,
     "metadata": {},
     "output_type": "execute_result"
    }
   ],
   "source": [
    "set([1, 2, 3]) & set([2, 3, 4])"
   ]
  },
  {
   "cell_type": "code",
   "execution_count": null,
   "id": "69177904-d364-4736-b16e-3d34883ea304",
   "metadata": {},
   "outputs": [],
   "source": []
  }
 ],
 "metadata": {
  "kernelspec": {
   "display_name": "Python 3 (ipykernel)",
   "language": "python",
   "name": "python3"
  },
  "language_info": {
   "codemirror_mode": {
    "name": "ipython",
    "version": 3
   },
   "file_extension": ".py",
   "mimetype": "text/x-python",
   "name": "python",
   "nbconvert_exporter": "python",
   "pygments_lexer": "ipython3",
   "version": "3.11.2"
  }
 },
 "nbformat": 4,
 "nbformat_minor": 5
}
