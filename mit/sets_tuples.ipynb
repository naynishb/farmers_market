{
 "cells": [
  {
   "cell_type": "code",
   "execution_count": 1,
   "id": "145b01aa-eccb-452a-a2a0-07a6c4378b37",
   "metadata": {},
   "outputs": [],
   "source": [
    "# mutability"
   ]
  },
  {
   "cell_type": "code",
   "execution_count": 2,
   "id": "be6b541b-4497-41dc-8f23-6ee9988483ae",
   "metadata": {},
   "outputs": [],
   "source": [
    "variable = 45"
   ]
  },
  {
   "cell_type": "code",
   "execution_count": 3,
   "id": "ccc8c46e-8d01-4a06-9228-1662999c794f",
   "metadata": {},
   "outputs": [
    {
     "data": {
      "text/plain": [
       "140731243034792"
      ]
     },
     "execution_count": 3,
     "metadata": {},
     "output_type": "execute_result"
    }
   ],
   "source": [
    "id(variable)"
   ]
  },
  {
   "cell_type": "code",
   "execution_count": 4,
   "id": "32183068-78ab-4107-bf8b-03b739c2e346",
   "metadata": {},
   "outputs": [],
   "source": [
    "variable = 50"
   ]
  },
  {
   "cell_type": "code",
   "execution_count": 5,
   "id": "74e417ce-75bb-409c-8082-288e5e4e6606",
   "metadata": {},
   "outputs": [
    {
     "data": {
      "text/plain": [
       "140731243034952"
      ]
     },
     "execution_count": 5,
     "metadata": {},
     "output_type": "execute_result"
    }
   ],
   "source": [
    "id(variable)"
   ]
  },
  {
   "cell_type": "code",
   "execution_count": 6,
   "id": "04ff7ca5-375c-4532-8cd4-7f05d3d58f9f",
   "metadata": {},
   "outputs": [
    {
     "data": {
      "text/plain": [
       "50"
      ]
     },
     "execution_count": 6,
     "metadata": {},
     "output_type": "execute_result"
    }
   ],
   "source": [
    "variable"
   ]
  },
  {
   "cell_type": "code",
   "execution_count": 8,
   "id": "36bdf3a4-aeb3-4f62-b23e-974400111f4d",
   "metadata": {},
   "outputs": [
    {
     "data": {
      "text/plain": [
       "50"
      ]
     },
     "execution_count": 8,
     "metadata": {},
     "output_type": "execute_result"
    }
   ],
   "source": [
    "variable"
   ]
  },
  {
   "cell_type": "code",
   "execution_count": 9,
   "id": "9df41b4c-1b2e-4c8e-a0b1-0d477bc76b22",
   "metadata": {},
   "outputs": [],
   "source": [
    "list3 = [1,2,3,4]"
   ]
  },
  {
   "cell_type": "code",
   "execution_count": 17,
   "id": "2c350f13-065c-4b28-b821-5e72925e8a54",
   "metadata": {},
   "outputs": [],
   "source": [
    "list3[0] = 100"
   ]
  },
  {
   "cell_type": "code",
   "execution_count": 10,
   "id": "2e7bd228-ba6f-44ef-95b1-d4aefecf1c1a",
   "metadata": {},
   "outputs": [
    {
     "data": {
      "text/plain": [
       "1781869562304"
      ]
     },
     "execution_count": 10,
     "metadata": {},
     "output_type": "execute_result"
    }
   ],
   "source": [
    "id(list3)"
   ]
  },
  {
   "cell_type": "code",
   "execution_count": 11,
   "id": "c98aacf4-21a7-4dd9-b46d-a48ce3149125",
   "metadata": {},
   "outputs": [],
   "source": [
    "list3.append(5)"
   ]
  },
  {
   "cell_type": "code",
   "execution_count": 18,
   "id": "04562396-5d81-4899-a6a8-87505b330923",
   "metadata": {},
   "outputs": [
    {
     "data": {
      "text/plain": [
       "[100, 2, 3, 4, 5]"
      ]
     },
     "execution_count": 18,
     "metadata": {},
     "output_type": "execute_result"
    }
   ],
   "source": [
    "list3"
   ]
  },
  {
   "cell_type": "code",
   "execution_count": 13,
   "id": "fcf11b3e-17b1-40ab-9675-806ddd1a6201",
   "metadata": {},
   "outputs": [
    {
     "data": {
      "text/plain": [
       "1781869562304"
      ]
     },
     "execution_count": 13,
     "metadata": {},
     "output_type": "execute_result"
    }
   ],
   "source": [
    "id(list3)"
   ]
  },
  {
   "cell_type": "code",
   "execution_count": 14,
   "id": "34583f30-7533-495e-9776-e171736b4870",
   "metadata": {},
   "outputs": [],
   "source": [
    "tuple1 = (1,2,3,4)"
   ]
  },
  {
   "cell_type": "code",
   "execution_count": 15,
   "id": "64798218-fb22-498b-ad21-88c5a69531dc",
   "metadata": {},
   "outputs": [
    {
     "data": {
      "text/plain": [
       "tuple"
      ]
     },
     "execution_count": 15,
     "metadata": {},
     "output_type": "execute_result"
    }
   ],
   "source": [
    "type(tuple1)"
   ]
  },
  {
   "cell_type": "code",
   "execution_count": 21,
   "id": "73c54983-eb2c-4a8c-a403-ae494894776c",
   "metadata": {},
   "outputs": [],
   "source": [
    "# tuple1[0] = 100"
   ]
  },
  {
   "cell_type": "code",
   "execution_count": 22,
   "id": "200ae341-c849-4141-8ab9-2f76e9cad303",
   "metadata": {},
   "outputs": [
    {
     "data": {
      "text/plain": [
       "(1, 2, 3, 4)"
      ]
     },
     "execution_count": 22,
     "metadata": {},
     "output_type": "execute_result"
    }
   ],
   "source": [
    "tuple1"
   ]
  },
  {
   "cell_type": "code",
   "execution_count": 23,
   "id": "3687ba89-34d5-4f42-bea2-808f2a0cc6dc",
   "metadata": {},
   "outputs": [
    {
     "data": {
      "text/plain": [
       "3"
      ]
     },
     "execution_count": 23,
     "metadata": {},
     "output_type": "execute_result"
    }
   ],
   "source": [
    "tuple1[2]"
   ]
  },
  {
   "cell_type": "code",
   "execution_count": 24,
   "id": "b210e58a-36fd-4b9a-8ca7-8417ba190804",
   "metadata": {},
   "outputs": [
    {
     "data": {
      "text/plain": [
       "(1, 2)"
      ]
     },
     "execution_count": 24,
     "metadata": {},
     "output_type": "execute_result"
    }
   ],
   "source": [
    "tuple1[0:2]"
   ]
  },
  {
   "cell_type": "code",
   "execution_count": 25,
   "id": "d25c789a-e83d-4a2b-b537-3da5ac141eea",
   "metadata": {},
   "outputs": [
    {
     "name": "stdout",
     "output_type": "stream",
     "text": [
      "1\n",
      "2\n",
      "3\n",
      "4\n"
     ]
    }
   ],
   "source": [
    "for i in tuple1:\n",
    "    print(i)"
   ]
  },
  {
   "cell_type": "code",
   "execution_count": 28,
   "id": "01c3f30a-83e1-40b0-a9e2-6931b8d0e206",
   "metadata": {},
   "outputs": [
    {
     "data": {
      "text/plain": [
       "1"
      ]
     },
     "execution_count": 28,
     "metadata": {},
     "output_type": "execute_result"
    }
   ],
   "source": [
    "tuple1.index(2)"
   ]
  },
  {
   "cell_type": "code",
   "execution_count": 29,
   "id": "55ee86df-8d7b-4531-8c56-b3c2300d7563",
   "metadata": {},
   "outputs": [],
   "source": [
    "def funncc():\n",
    "    return 100,200,300"
   ]
  },
  {
   "cell_type": "code",
   "execution_count": 37,
   "id": "373028ce-21e2-4cff-a7f2-c9839cec922e",
   "metadata": {},
   "outputs": [],
   "source": [
    "hundred,two_hundred,three_hundred = funncc()"
   ]
  },
  {
   "cell_type": "code",
   "execution_count": 38,
   "id": "75c452b0-b6d4-4808-8a42-be5a14cb4cb4",
   "metadata": {},
   "outputs": [
    {
     "data": {
      "text/plain": [
       "100"
      ]
     },
     "execution_count": 38,
     "metadata": {},
     "output_type": "execute_result"
    }
   ],
   "source": [
    "hundred"
   ]
  },
  {
   "cell_type": "code",
   "execution_count": 39,
   "id": "dd08050f-826d-44ed-839d-bca0ce79eda7",
   "metadata": {},
   "outputs": [
    {
     "data": {
      "text/plain": [
       "200"
      ]
     },
     "execution_count": 39,
     "metadata": {},
     "output_type": "execute_result"
    }
   ],
   "source": [
    "two_hundred"
   ]
  },
  {
   "cell_type": "code",
   "execution_count": 40,
   "id": "d8ab6a01-4291-41e1-b879-596146a1c8ac",
   "metadata": {},
   "outputs": [
    {
     "data": {
      "text/plain": [
       "300"
      ]
     },
     "execution_count": 40,
     "metadata": {},
     "output_type": "execute_result"
    }
   ],
   "source": [
    "three_hundred"
   ]
  },
  {
   "cell_type": "code",
   "execution_count": 41,
   "id": "781d0753-245d-4259-947f-4cb382b8d656",
   "metadata": {},
   "outputs": [],
   "source": [
    "hundred,two_hundred,three_hundred = [100,200,300]"
   ]
  },
  {
   "cell_type": "code",
   "execution_count": 42,
   "id": "8e4aa4b2-5289-45d1-a87c-e1596a8feb1d",
   "metadata": {},
   "outputs": [
    {
     "data": {
      "text/plain": [
       "100"
      ]
     },
     "execution_count": 42,
     "metadata": {},
     "output_type": "execute_result"
    }
   ],
   "source": [
    "hundred"
   ]
  },
  {
   "cell_type": "code",
   "execution_count": null,
   "id": "bf29f644-56e4-479e-a976-8802a07993e6",
   "metadata": {},
   "outputs": [],
   "source": []
  }
 ],
 "metadata": {
  "kernelspec": {
   "display_name": "Python 3 (ipykernel)",
   "language": "python",
   "name": "python3"
  },
  "language_info": {
   "codemirror_mode": {
    "name": "ipython",
    "version": 3
   },
   "file_extension": ".py",
   "mimetype": "text/x-python",
   "name": "python",
   "nbconvert_exporter": "python",
   "pygments_lexer": "ipython3",
   "version": "3.11.2"
  }
 },
 "nbformat": 4,
 "nbformat_minor": 5
}
