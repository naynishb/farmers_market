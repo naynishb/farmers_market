{
 "cells": [
  {
   "cell_type": "code",
   "execution_count": 6,
   "metadata": {
    "id": "oiJ7EomXUZqo"
   },
   "outputs": [],
   "source": [
    "# while and for loops"
   ]
  },
  {
   "cell_type": "code",
   "execution_count": 7,
   "metadata": {
    "id": "YfnWsGIuVKKO"
   },
   "outputs": [],
   "source": [
    "## print numbers from 0 to 10 one after the another"
   ]
  },
  {
   "cell_type": "code",
   "execution_count": 8,
   "metadata": {
    "colab": {
     "base_uri": "https://localhost:8080/"
    },
    "id": "9vs3lwsXVwcm",
    "outputId": "7bda82d3-8f62-4a19-e410-5ef4edc471df"
   },
   "outputs": [
    {
     "name": "stdout",
     "output_type": "stream",
     "text": [
      "0 1 2 3 4 5 6 7 8 9 10 "
     ]
    }
   ],
   "source": [
    "i = 0           # initial variable\n",
    "while i <= 10:         # condition\n",
    "  print(i,end = \" \")   # body\n",
    "  i += 1             # updation"
   ]
  },
  {
   "cell_type": "code",
   "execution_count": 9,
   "metadata": {
    "colab": {
     "base_uri": "https://localhost:8080/"
    },
    "id": "5YihPnBVWlXj",
    "outputId": "5545d43d-a533-47af-9508-d03ddf6487b3"
   },
   "outputs": [
    {
     "name": "stdout",
     "output_type": "stream",
     "text": [
      "5 10 15 20 25 30 35 40 45 50 "
     ]
    }
   ],
   "source": [
    "# print multiplication table of 5\n",
    "i = 5         # initial variable\n",
    "while i <= 50:         # condition\n",
    "  print(i,end = \" \")   # body\n",
    "  i += 5             # updation"
   ]
  },
  {
   "cell_type": "code",
   "execution_count": 10,
   "metadata": {
    "colab": {
     "background_save": true
    },
    "id": "ulgUN58DYtk7"
   },
   "outputs": [],
   "source": [
    "# i = 55         # initial variable\n",
    "# while i >= 50:         # condition\n",
    "#   print(i,end = \" \")   # body\n",
    "#  # i += 5             # updation"
   ]
  },
  {
   "cell_type": "code",
   "execution_count": 11,
   "metadata": {
    "id": "2rSloDGIZXbH"
   },
   "outputs": [],
   "source": [
    "## Take user input, print from 1 to that input, (alternate numbers)"
   ]
  },
  {
   "cell_type": "code",
   "execution_count": 21,
   "metadata": {},
   "outputs": [
    {
     "name": "stdin",
     "output_type": "stream",
     "text": [
      "enter ending number  10\n"
     ]
    },
    {
     "name": "stdout",
     "output_type": "stream",
     "text": [
      "1 3 5 7 9 "
     ]
    }
   ],
   "source": [
    "N = int(input(\"enter ending number \"))\n",
    "if N > 1:\n",
    "    i = 1\n",
    "    while i <= N:\n",
    "        print(i,end = \" \")\n",
    "        i += 2\n",
    "else:\n",
    "    print(\"enter a number greater than 1\")"
   ]
  },
  {
   "cell_type": "code",
   "execution_count": 16,
   "metadata": {},
   "outputs": [],
   "source": [
    "## take start number and end number as inputs, print all even numbers from start to end"
   ]
  },
  {
   "cell_type": "code",
   "execution_count": 19,
   "metadata": {},
   "outputs": [
    {
     "name": "stdin",
     "output_type": "stream",
     "text": [
      "Enter start number  1\n",
      "Enter end number  10\n"
     ]
    },
    {
     "name": "stdout",
     "output_type": "stream",
     "text": [
      "2 4 6 8 10 "
     ]
    }
   ],
   "source": [
    "i = int(input(\"Enter start number \"))\n",
    "end = int(input(\"Enter end number \"))\n",
    "\n",
    "while i <= end:\n",
    "    if i % 2 == 0:\n",
    "        print(i,end = \" \")\n",
    "    i += 1"
   ]
  },
  {
   "cell_type": "code",
   "execution_count": 32,
   "metadata": {},
   "outputs": [
    {
     "name": "stdin",
     "output_type": "stream",
     "text": [
      "Enter start number  1\n",
      "Enter end number  10\n"
     ]
    },
    {
     "name": "stdout",
     "output_type": "stream",
     "text": [
      "2 4 6 8 10 "
     ]
    }
   ],
   "source": [
    "i = int(input(\"Enter start number \"))\n",
    "end = int(input(\"Enter end number \"))\n",
    "\n",
    "if i % 2 == 0:\n",
    "    start = i\n",
    "else:\n",
    "    start = i + 1\n",
    "\n",
    "while start <= end:\n",
    "    print(start,end = \" \")\n",
    "    start += 2"
   ]
  },
  {
   "cell_type": "code",
   "execution_count": 33,
   "metadata": {},
   "outputs": [],
   "source": [
    "# for loop"
   ]
  },
  {
   "cell_type": "code",
   "execution_count": 41,
   "metadata": {},
   "outputs": [
    {
     "name": "stdout",
     "output_type": "stream",
     "text": [
      "1 2 3 4 5 6 7 8 9 10 "
     ]
    }
   ],
   "source": [
    "# ## print numbers from 0 to 10 one after the another\n",
    "for i in range(1,11):\n",
    "    print(i, end = \" \" )"
   ]
  },
  {
   "cell_type": "code",
   "execution_count": 43,
   "metadata": {},
   "outputs": [
    {
     "name": "stdin",
     "output_type": "stream",
     "text": [
      "endter ending number  10\n"
     ]
    },
    {
     "name": "stdout",
     "output_type": "stream",
     "text": [
      "1 2 3 4 5 6 7 8 9 10 "
     ]
    }
   ],
   "source": [
    "## Print all numbers from 1 to N where N is the input from the user\n",
    "N = int(input(\"endter ending number \"))\n",
    "for i in range(1,N+1):\n",
    "    print(i,end = \" \")"
   ]
  },
  {
   "cell_type": "code",
   "execution_count": 44,
   "metadata": {},
   "outputs": [],
   "source": [
    "# print all numbers from N to 1 (reverse order)"
   ]
  },
  {
   "cell_type": "code",
   "execution_count": 46,
   "metadata": {},
   "outputs": [
    {
     "name": "stdin",
     "output_type": "stream",
     "text": [
      "enter ending number  10\n"
     ]
    },
    {
     "name": "stdout",
     "output_type": "stream",
     "text": [
      "10 9 8 7 6 5 4 3 2 1 "
     ]
    }
   ],
   "source": [
    "## Print all numbers from 1 to N where N is the input from the user\n",
    "N = int(input(\"enter ending number \"))\n",
    "for i in range(N,0,-1):\n",
    "    print(i,end = \" \")"
   ]
  },
  {
   "cell_type": "code",
   "execution_count": 50,
   "metadata": {},
   "outputs": [
    {
     "name": "stdout",
     "output_type": "stream",
     "text": [
      "long code before\n",
      "long code after\n"
     ]
    }
   ],
   "source": [
    "print(\"long code before\")\n",
    "\n",
    "if 6 < 7:\n",
    "    pass\n",
    "    # print(\"running this code\")\n",
    "\n",
    "print(\"long code after\")\n"
   ]
  },
  {
   "cell_type": "code",
   "execution_count": 58,
   "metadata": {},
   "outputs": [
    {
     "name": "stdout",
     "output_type": "stream",
     "text": [
      "code before\n",
      "code before\n",
      "code before\n",
      "code before\n"
     ]
    }
   ],
   "source": [
    "for i in range(1,5):\n",
    "    print(\"code before\")\n",
    "    continue\n",
    "    print(\"code after\")   # undecided"
   ]
  },
  {
   "cell_type": "code",
   "execution_count": 59,
   "metadata": {},
   "outputs": [
    {
     "name": "stdout",
     "output_type": "stream",
     "text": [
      "code before\n"
     ]
    }
   ],
   "source": [
    "for i in range(1,5):\n",
    "    print(\"code before\")\n",
    "    break\n",
    "    print(\"code after\")   # undecided"
   ]
  },
  {
   "cell_type": "code",
   "execution_count": 60,
   "metadata": {},
   "outputs": [
    {
     "name": "stdout",
     "output_type": "stream",
     "text": [
      "0\n",
      "1\n",
      "2\n",
      "4\n"
     ]
    }
   ],
   "source": [
    "for i in range(5):\n",
    "    if i == 3:\n",
    "        continue\n",
    "    print(i)"
   ]
  },
  {
   "cell_type": "code",
   "execution_count": 61,
   "metadata": {},
   "outputs": [
    {
     "name": "stdout",
     "output_type": "stream",
     "text": [
      "0\n",
      "1\n",
      "2\n"
     ]
    }
   ],
   "source": [
    "for i in range(5):\n",
    "    if i == 3:\n",
    "        break\n",
    "    print(i)"
   ]
  },
  {
   "cell_type": "code",
   "execution_count": null,
   "metadata": {},
   "outputs": [],
   "source": []
  }
 ],
 "metadata": {
  "colab": {
   "provenance": []
  },
  "kernelspec": {
   "display_name": "Python 3 (ipykernel)",
   "language": "python",
   "name": "python3"
  },
  "language_info": {
   "codemirror_mode": {
    "name": "ipython",
    "version": 3
   },
   "file_extension": ".py",
   "mimetype": "text/x-python",
   "name": "python",
   "nbconvert_exporter": "python",
   "pygments_lexer": "ipython3",
   "version": "3.11.2"
  }
 },
 "nbformat": 4,
 "nbformat_minor": 4
}
