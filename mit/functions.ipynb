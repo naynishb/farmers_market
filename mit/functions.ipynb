{
 "cells": [
  {
   "cell_type": "code",
   "execution_count": 2,
   "id": "7a2414b0-1ee3-42a4-af69-4ce7b0c0318f",
   "metadata": {},
   "outputs": [],
   "source": [
    "def guests_are_arriving():\n",
    "    print(\"Dust all the rooms\")    # guests\n",
    "    print(\"Arrange living room\")\n",
    "    print(\"Cold drinks\")\n",
    "    print(\"Fancy lights\")"
   ]
  },
  {
   "cell_type": "code",
   "execution_count": 3,
   "id": "58ca2371-a908-42a2-a1b4-a25f989dbe39",
   "metadata": {},
   "outputs": [
    {
     "name": "stdout",
     "output_type": "stream",
     "text": [
      "Dust all the rooms\n",
      "Arrange living room\n",
      "Cold drinks\n",
      "Fancy lights\n"
     ]
    }
   ],
   "source": [
    "guests_are_arriving()"
   ]
  },
  {
   "cell_type": "code",
   "execution_count": 5,
   "id": "47486df3-6aa0-40c5-81ac-7f2924757414",
   "metadata": {},
   "outputs": [
    {
     "data": {
      "text/plain": [
       "'\\nQuestion 2 - \\nTake a name as input.\\nWrite a greeter function which prints, \"HELLO NAME!\"\\nafter accepting a name as argument.\\n'"
      ]
     },
     "execution_count": 5,
     "metadata": {},
     "output_type": "execute_result"
    }
   ],
   "source": [
    "'''\n",
    "Question 2 - \n",
    "Take a name as input.\n",
    "Write a greeter function which prints, \"HELLO NAME!\"\n",
    "after accepting a name as argument.\n",
    "'''"
   ]
  },
  {
   "cell_type": "code",
   "execution_count": 6,
   "id": "82da7171-4d84-4f48-9850-68332a6ae09b",
   "metadata": {},
   "outputs": [],
   "source": [
    "def greeter(name):\n",
    "    print(\"Hello\",name,end = \"!\")"
   ]
  },
  {
   "cell_type": "code",
   "execution_count": 10,
   "id": "c67d216f-b891-4577-a131-bb70cec87f26",
   "metadata": {},
   "outputs": [
    {
     "name": "stdin",
     "output_type": "stream",
     "text": [
      "Enter your name Naynish\n"
     ]
    },
    {
     "name": "stdout",
     "output_type": "stream",
     "text": [
      "Hello Naynish!"
     ]
    }
   ],
   "source": [
    "name_variable = input(\"Enter your name\")\n",
    "greeter(name_variable)"
   ]
  },
  {
   "cell_type": "code",
   "execution_count": 8,
   "id": "8498efab-6b81-458b-8a8f-10ec198d56e5",
   "metadata": {},
   "outputs": [
    {
     "name": "stdout",
     "output_type": "stream",
     "text": [
      "Hello Rishu!"
     ]
    }
   ],
   "source": [
    "greeter(\"Rishu\")"
   ]
  },
  {
   "cell_type": "code",
   "execution_count": 39,
   "id": "7146dd19-f284-4bd9-954f-ff80c557a517",
   "metadata": {},
   "outputs": [],
   "source": [
    "def introduce_family(father = \"NA\",mother=\"NA\",sibling=\"NA\"):\n",
    "    '''\n",
    "    this function will take 3 arguments\n",
    "    about family and assign them to print\n",
    "    their names with relation\n",
    "    \n",
    "    '''\n",
    "    print(\"Father >> \",father)\n",
    "    print(\"Mother >> \",mother)\n",
    "    print(\"Sibling >> \",sibling)"
   ]
  },
  {
   "cell_type": "code",
   "execution_count": 35,
   "id": "b22bea68-4cba-4b87-83dd-72a3e13278f0",
   "metadata": {},
   "outputs": [
    {
     "name": "stdout",
     "output_type": "stream",
     "text": [
      "Father >>  Shahrukh\n",
      "Mother >>  Gauri\n",
      "Sibling >>  Suhana\n"
     ]
    }
   ],
   "source": [
    "introduce_family(\"Shahrukh\",\"Gauri\",\"Suhana\")"
   ]
  },
  {
   "cell_type": "code",
   "execution_count": 37,
   "id": "6f12b386-55e3-45ee-90d4-ba2e200e5b71",
   "metadata": {},
   "outputs": [
    {
     "name": "stdout",
     "output_type": "stream",
     "text": [
      "Father >>  Shahrukh\n",
      "Mother >>  NA\n",
      "Sibling >>  Suhana\n"
     ]
    }
   ],
   "source": [
    "introduce_family(sibling = \"Suhana\",father = \"Shahrukh\")"
   ]
  },
  {
   "cell_type": "code",
   "execution_count": 43,
   "id": "4d537442-3831-4717-8d8a-c4851df26b22",
   "metadata": {},
   "outputs": [
    {
     "data": {
      "text/plain": [
       "\u001b[1;31mSignature:\u001b[0m \u001b[0mintroduce_family\u001b[0m\u001b[1;33m(\u001b[0m\u001b[0mfather\u001b[0m\u001b[1;33m=\u001b[0m\u001b[1;34m'NA'\u001b[0m\u001b[1;33m,\u001b[0m \u001b[0mmother\u001b[0m\u001b[1;33m=\u001b[0m\u001b[1;34m'NA'\u001b[0m\u001b[1;33m,\u001b[0m \u001b[0msibling\u001b[0m\u001b[1;33m=\u001b[0m\u001b[1;34m'NA'\u001b[0m\u001b[1;33m)\u001b[0m\u001b[1;33m\u001b[0m\u001b[1;33m\u001b[0m\u001b[0m\n",
       "\u001b[1;31mDocstring:\u001b[0m\n",
       "this function will take 3 arguments\n",
       "about family and assign them to print\n",
       "their names with relation\n",
       "\u001b[1;31mFile:\u001b[0m      c:\\users\\naynish\\appdata\\local\\temp\\ipykernel_21612\\993729352.py\n",
       "\u001b[1;31mType:\u001b[0m      function"
      ]
     },
     "metadata": {},
     "output_type": "display_data"
    }
   ],
   "source": [
    "introduce_family?"
   ]
  },
  {
   "cell_type": "code",
   "execution_count": 44,
   "id": "3e5dbffa-59e0-4667-9ed1-9d07cfc5baec",
   "metadata": {},
   "outputs": [
    {
     "data": {
      "text/plain": [
       "'\\nTwo arguments - \\nArguments can only be int or float.\\n\\nOutput - Sum of both the arguments.\\n'"
      ]
     },
     "execution_count": 44,
     "metadata": {},
     "output_type": "execute_result"
    }
   ],
   "source": [
    "    '''\n",
    "    Two arguments - \n",
    "    Arguments can only be int or float.\n",
    "    \n",
    "    Output - Sum of both the arguments.\n",
    "    '''"
   ]
  },
  {
   "cell_type": "code",
   "execution_count": 60,
   "id": "f7ae894f-89c1-4373-952c-1d5be01bd4da",
   "metadata": {},
   "outputs": [],
   "source": [
    "def sum_of_two(a,b):\n",
    "    return a+b,a-b"
   ]
  },
  {
   "cell_type": "code",
   "execution_count": 61,
   "id": "da14e525-e54f-4720-92ad-0d1c01f9ff85",
   "metadata": {},
   "outputs": [
    {
     "data": {
      "text/plain": [
       "(14.5, -0.5)"
      ]
     },
     "execution_count": 61,
     "metadata": {},
     "output_type": "execute_result"
    }
   ],
   "source": [
    "sum_of_two(7,7.5)"
   ]
  },
  {
   "cell_type": "code",
   "execution_count": 48,
   "id": "7dbda060-30c7-43d2-81be-698bc6058684",
   "metadata": {},
   "outputs": [
    {
     "data": {
      "text/plain": [
       "20"
      ]
     },
     "execution_count": 48,
     "metadata": {},
     "output_type": "execute_result"
    }
   ],
   "source": [
    "sum([5,7]) + 8"
   ]
  },
  {
   "cell_type": "code",
   "execution_count": 52,
   "id": "d58ec220-9081-4199-900e-2a2b3a65fa08",
   "metadata": {},
   "outputs": [
    {
     "name": "stdout",
     "output_type": "stream",
     "text": [
      "Naynish\n"
     ]
    },
    {
     "data": {
      "text/plain": [
       "NoneType"
      ]
     },
     "execution_count": 52,
     "metadata": {},
     "output_type": "execute_result"
    }
   ],
   "source": [
    "type(print(\"Naynish\"))"
   ]
  },
  {
   "cell_type": "code",
   "execution_count": 51,
   "id": "82ffe261-2d15-4eb7-bee3-63d9ef80cf94",
   "metadata": {
    "scrolled": true
   },
   "outputs": [
    {
     "data": {
      "text/plain": [
       "'Naynish'"
      ]
     },
     "execution_count": 51,
     "metadata": {},
     "output_type": "execute_result"
    }
   ],
   "source": [
    "\"Naynish\""
   ]
  },
  {
   "cell_type": "code",
   "execution_count": 62,
   "id": "24f5402e-0531-44ed-b6bd-bee11a5810a8",
   "metadata": {},
   "outputs": [
    {
     "data": {
      "text/plain": [
       "'\\nQuestion 1 - \\nCreate a date printing function - \\nShould take 4 arguments -> day, month, year and style\\n\\nStyling Logic - \\nstyle -> 0 -> d/m/y\\nstyle -> 1 -> m/d/y\\nstyle -> any other value -> Invalid Style\\n\\ndefault style is 0.\\n'"
      ]
     },
     "execution_count": 62,
     "metadata": {},
     "output_type": "execute_result"
    }
   ],
   "source": [
    "'''\n",
    "Question 1 - \n",
    "Create a date printing function - \n",
    "Should take 4 arguments -> day, month, year and style\n",
    "\n",
    "Styling Logic - \n",
    "style -> 0 -> d/m/y\n",
    "style -> 1 -> m/d/y\n",
    "style -> any other value -> Invalid Style\n",
    "\n",
    "default style is 0.\n",
    "'''"
   ]
  },
  {
   "cell_type": "code",
   "execution_count": 67,
   "id": "976cc08a-ff9e-4d3e-a9ec-4afe49075fc3",
   "metadata": {},
   "outputs": [],
   "source": [
    "def date_printing(day,month,year,style = 0):\n",
    "    if style == 0:\n",
    "        print(day,month,year,sep = \"/\")\n",
    "    elif style == 1:\n",
    "        print(month,day,year,sep = \"/\")\n",
    "    else:\n",
    "        print(\"Invalid Style\")"
   ]
  },
  {
   "cell_type": "code",
   "execution_count": 68,
   "id": "1fed8af0-412c-4389-a4df-35f570c59685",
   "metadata": {},
   "outputs": [
    {
     "name": "stdout",
     "output_type": "stream",
     "text": [
      "Invalid Style\n"
     ]
    }
   ],
   "source": [
    "date_printing(25,9,2025,5)"
   ]
  },
  {
   "cell_type": "markdown",
   "id": "7764d48a-576f-4edd-9194-25a03b3433a6",
   "metadata": {},
   "source": [
    "1. Given the temperature of a day in Degrees Celsius, convert this given temperature from Celsius to Fahrenheit. Complete the function to do so. Round the output up to 2 decimal places\n",
    "\n",
    "**Note:**\n",
    "\n",
    "1. To round up the values -\n",
    "    - Python : Use **round(ans,2)** to round up ans to two decimals\n",
    "2. The formula to convert Celsius to Fahrenheit is: **F = (9/5 * C) + 32**"
   ]
  },
  {
   "cell_type": "code",
   "execution_count": 69,
   "id": "25d17633-8925-4291-b44e-c7f6cb1c6369",
   "metadata": {},
   "outputs": [],
   "source": [
    "def celsius_to_fah(Celcius):\n",
    "    F = (9/5 * Celcius) + 32\n",
    "    return round(F,2)"
   ]
  },
  {
   "cell_type": "code",
   "execution_count": 75,
   "id": "192a1f6f-7b33-48c7-a933-905bb45517f9",
   "metadata": {},
   "outputs": [
    {
     "data": {
      "text/plain": [
       "95.99"
      ]
     },
     "execution_count": 75,
     "metadata": {},
     "output_type": "execute_result"
    }
   ],
   "source": [
    "celsius_to_fah(35.55)"
   ]
  },
  {
   "cell_type": "markdown",
   "id": "c7ce27de-199f-4039-8b50-87578ccb31e0",
   "metadata": {},
   "source": [
    "1. Given the height **(A)** and weight **(B)** of a person as input in centimetres and kilograms.\n",
    "\n",
    "Find the BMI of that person and the classification of the user based on their BMI.\n",
    "\n",
    "1. Print **Underweight** if BMI < 18.5\n",
    "2. Print **Normal** if BMI lies in the range [18.5, 24.9]\n",
    "3. Print **Overweight** if BMI lies in the range (24.9, 29.9]\n",
    "4. Print **Obese** if BMI is greater than 29.9\n",
    "\n",
    "If **x** is the weight in kilograms and **y** is the height in metres.\n",
    "\n",
    "Then, BMI is calculated as **x/(y*y)**.\n",
    "\n",
    "**Note:** Use **round(BMI,1) to** get only one digit after decimal\n",
    "\n",
    "**Input Format -**\n",
    "\n",
    "The first line contains the height of the person in centimetres.\n",
    "\n",
    "The second line of the input contains the weight of the person in kilograms.\n",
    "\n",
    "**Output Format -**\n",
    "\n",
    "The first line of the output contains the classification of a person based on the BMI value.\n",
    "\n",
    "The second line of the output contains the BMI value of the person having only one digit after decimal."
   ]
  },
  {
   "cell_type": "code",
   "execution_count": 13,
   "id": "7150a75f-91c8-4549-83d4-cac5d82e7baa",
   "metadata": {},
   "outputs": [],
   "source": [
    "def bmi_calculator(height_in_cm,weight_in_kg):\n",
    "    height_in_m = height_in_cm / 100\n",
    "    BMI = round(weight_in_kg / (height_in_m**2),2)\n",
    "    if BMI < 18.5:\n",
    "        classify = \"Underweight\"\n",
    "    elif 18.5 <= BMI <= 24.9:\n",
    "        classify = \"Normal\"\n",
    "    elif 24.9 < BMI <= 29.9:\n",
    "        classify = \"Overweight\"\n",
    "    else:\n",
    "        classify = \"Obese\"\n",
    "    return f\"Your BMI is {BMI} and you are {classify}\""
   ]
  },
  {
   "cell_type": "code",
   "execution_count": 14,
   "id": "9226893e-7e68-4642-8cec-5abc9f196cbd",
   "metadata": {},
   "outputs": [
    {
     "data": {
      "text/plain": [
       "'Your BMI is 20.0 and you are Normal'"
      ]
     },
     "execution_count": 14,
     "metadata": {},
     "output_type": "execute_result"
    }
   ],
   "source": [
    "bmi_calculator(200,80)"
   ]
  },
  {
   "cell_type": "code",
   "execution_count": 9,
   "id": "7ede6ad4-ea4a-4064-9ed7-72a0de1769c2",
   "metadata": {},
   "outputs": [],
   "source": [
    "variable = 50"
   ]
  },
  {
   "cell_type": "code",
   "execution_count": 12,
   "id": "34c16943-380b-418f-90c3-c1bf907fb993",
   "metadata": {},
   "outputs": [
    {
     "name": "stdout",
     "output_type": "stream",
     "text": [
      "the variable is 50\n"
     ]
    }
   ],
   "source": [
    "print(f\"the variable is {variable}\")"
   ]
  },
  {
   "cell_type": "code",
   "execution_count": 15,
   "id": "290b89ad-e75c-4636-8ecf-8050815d47f1",
   "metadata": {},
   "outputs": [],
   "source": [
    "# input = radius of cirle, calculate area of circle"
   ]
  },
  {
   "cell_type": "code",
   "execution_count": 22,
   "id": "9b8bfe36-d141-44da-8e7d-bdde83682b47",
   "metadata": {},
   "outputs": [],
   "source": [
    "def area_of_circle(radius):\n",
    "    import math\n",
    "    Area = math.pi * (radius**2)\n",
    "    return Area"
   ]
  },
  {
   "cell_type": "code",
   "execution_count": 23,
   "id": "36d61c86-bc0f-49c4-a912-ff0131a7d27c",
   "metadata": {},
   "outputs": [
    {
     "data": {
      "text/plain": [
       "452.3893421169302"
      ]
     },
     "execution_count": 23,
     "metadata": {},
     "output_type": "execute_result"
    }
   ],
   "source": [
    "area_of_circle(12)"
   ]
  },
  {
   "cell_type": "code",
   "execution_count": 34,
   "id": "e87971cf-51c0-47c0-850a-42be4146b8db",
   "metadata": {},
   "outputs": [],
   "source": [
    "def road_tax(price):\n",
    "    if price > 100000:\n",
    "        tax = 0.2 * price\n",
    "    elif 75000 < price <= 100000:\n",
    "        tax = 0.15 * price\n",
    "    elif 50000 < price <= 75000:\n",
    "        tax = 0.1 * price\n",
    "    else:\n",
    "        tax = 0.05 * price\n",
    "    tax = round(tax,1)\n",
    "    return f\"Your Vehicle Price is {price} and Road Tax is {tax}\""
   ]
  },
  {
   "cell_type": "code",
   "execution_count": 36,
   "id": "91f86b5d-a988-4739-b9ea-7d568af8e431",
   "metadata": {},
   "outputs": [
    {
     "data": {
      "text/plain": [
       "'Your Vehicle Price is 100000 and Road Tax is 15000.0'"
      ]
     },
     "execution_count": 36,
     "metadata": {},
     "output_type": "execute_result"
    }
   ],
   "source": [
    "road_tax(100000)"
   ]
  },
  {
   "cell_type": "code",
   "execution_count": 37,
   "id": "11a26f33-048b-48d8-af29-0c37384ac08f",
   "metadata": {},
   "outputs": [],
   "source": [
    "# squared a number"
   ]
  },
  {
   "cell_type": "code",
   "execution_count": 38,
   "id": "45504b48-1f84-4e9b-a37e-7d67d229a3dc",
   "metadata": {},
   "outputs": [
    {
     "data": {
      "text/plain": [
       "5.0"
      ]
     },
     "execution_count": 38,
     "metadata": {},
     "output_type": "execute_result"
    }
   ],
   "source": [
    "import math\n",
    "math.sqrt(25)"
   ]
  },
  {
   "cell_type": "code",
   "execution_count": 39,
   "id": "57684bea-2b05-4af6-8bf1-51cda82cde56",
   "metadata": {},
   "outputs": [],
   "source": [
    "def square_a_number(a):\n",
    "    return a**2"
   ]
  },
  {
   "cell_type": "code",
   "execution_count": 40,
   "id": "5fc6fe87-576e-4ca0-b233-62d0de8c4810",
   "metadata": {},
   "outputs": [
    {
     "data": {
      "text/plain": [
       "81"
      ]
     },
     "execution_count": 40,
     "metadata": {},
     "output_type": "execute_result"
    }
   ],
   "source": [
    "square_a_number(9)"
   ]
  },
  {
   "cell_type": "code",
   "execution_count": 41,
   "id": "f187f1c9-5213-4f0c-86dc-688037e860f2",
   "metadata": {},
   "outputs": [],
   "source": [
    "squared_number = lambda a: a**2"
   ]
  },
  {
   "cell_type": "code",
   "execution_count": 42,
   "id": "4bdba24e-984d-4fe4-aa52-c601472f3aae",
   "metadata": {},
   "outputs": [
    {
     "data": {
      "text/plain": [
       "49"
      ]
     },
     "execution_count": 42,
     "metadata": {},
     "output_type": "execute_result"
    }
   ],
   "source": [
    "squared_number(7)"
   ]
  },
  {
   "cell_type": "code",
   "execution_count": 43,
   "id": "c36ef7c6-fc5a-4adc-b4cb-b79b0615a645",
   "metadata": {},
   "outputs": [],
   "source": [
    "add_two_numbers = lambda a,b: a+b"
   ]
  },
  {
   "cell_type": "code",
   "execution_count": 44,
   "id": "2537af40-40e1-43bb-b8e7-efc607d11c53",
   "metadata": {},
   "outputs": [
    {
     "data": {
      "text/plain": [
       "12"
      ]
     },
     "execution_count": 44,
     "metadata": {},
     "output_type": "execute_result"
    }
   ],
   "source": [
    "add_two_numbers(7,5)"
   ]
  },
  {
   "cell_type": "code",
   "execution_count": 45,
   "id": "293c0635-48f3-4a20-a263-92fc968edc7a",
   "metadata": {},
   "outputs": [],
   "source": [
    "# max number\n",
    "max_of_2 = lambda a,b: a if a > b else b"
   ]
  },
  {
   "cell_type": "code",
   "execution_count": 48,
   "id": "46bfc749-0d36-472c-a90f-dfbd652617e1",
   "metadata": {},
   "outputs": [
    {
     "data": {
      "text/plain": [
       "7"
      ]
     },
     "execution_count": 48,
     "metadata": {},
     "output_type": "execute_result"
    }
   ],
   "source": [
    "max_of_2(7,5)"
   ]
  },
  {
   "cell_type": "code",
   "execution_count": null,
   "id": "8b8a9c3e-e1c3-4d0c-b6d2-8413050728e4",
   "metadata": {},
   "outputs": [],
   "source": []
  }
 ],
 "metadata": {
  "kernelspec": {
   "display_name": "Python 3 (ipykernel)",
   "language": "python",
   "name": "python3"
  },
  "language_info": {
   "codemirror_mode": {
    "name": "ipython",
    "version": 3
   },
   "file_extension": ".py",
   "mimetype": "text/x-python",
   "name": "python",
   "nbconvert_exporter": "python",
   "pygments_lexer": "ipython3",
   "version": "3.11.2"
  }
 },
 "nbformat": 4,
 "nbformat_minor": 5
}
