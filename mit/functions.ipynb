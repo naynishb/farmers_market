{
 "cells": [
  {
   "cell_type": "code",
   "execution_count": 2,
   "id": "7a2414b0-1ee3-42a4-af69-4ce7b0c0318f",
   "metadata": {},
   "outputs": [],
   "source": [
    "def guests_are_arriving():\n",
    "    print(\"Dust all the rooms\")    # guests\n",
    "    print(\"Arrange living room\")\n",
    "    print(\"Cold drinks\")\n",
    "    print(\"Fancy lights\")"
   ]
  },
  {
   "cell_type": "code",
   "execution_count": 3,
   "id": "58ca2371-a908-42a2-a1b4-a25f989dbe39",
   "metadata": {},
   "outputs": [
    {
     "name": "stdout",
     "output_type": "stream",
     "text": [
      "Dust all the rooms\n",
      "Arrange living room\n",
      "Cold drinks\n",
      "Fancy lights\n"
     ]
    }
   ],
   "source": [
    "guests_are_arriving()"
   ]
  },
  {
   "cell_type": "code",
   "execution_count": 5,
   "id": "47486df3-6aa0-40c5-81ac-7f2924757414",
   "metadata": {},
   "outputs": [
    {
     "data": {
      "text/plain": [
       "'\\nQuestion 2 - \\nTake a name as input.\\nWrite a greeter function which prints, \"HELLO NAME!\"\\nafter accepting a name as argument.\\n'"
      ]
     },
     "execution_count": 5,
     "metadata": {},
     "output_type": "execute_result"
    }
   ],
   "source": [
    "'''\n",
    "Question 2 - \n",
    "Take a name as input.\n",
    "Write a greeter function which prints, \"HELLO NAME!\"\n",
    "after accepting a name as argument.\n",
    "'''"
   ]
  },
  {
   "cell_type": "code",
   "execution_count": 6,
   "id": "82da7171-4d84-4f48-9850-68332a6ae09b",
   "metadata": {},
   "outputs": [],
   "source": [
    "def greeter(name):\n",
    "    print(\"Hello\",name,end = \"!\")"
   ]
  },
  {
   "cell_type": "code",
   "execution_count": 10,
   "id": "c67d216f-b891-4577-a131-bb70cec87f26",
   "metadata": {},
   "outputs": [
    {
     "name": "stdin",
     "output_type": "stream",
     "text": [
      "Enter your name Naynish\n"
     ]
    },
    {
     "name": "stdout",
     "output_type": "stream",
     "text": [
      "Hello Naynish!"
     ]
    }
   ],
   "source": [
    "name_variable = input(\"Enter your name\")\n",
    "greeter(name_variable)"
   ]
  },
  {
   "cell_type": "code",
   "execution_count": 8,
   "id": "8498efab-6b81-458b-8a8f-10ec198d56e5",
   "metadata": {},
   "outputs": [
    {
     "name": "stdout",
     "output_type": "stream",
     "text": [
      "Hello Rishu!"
     ]
    }
   ],
   "source": [
    "greeter(\"Rishu\")"
   ]
  },
  {
   "cell_type": "code",
   "execution_count": 39,
   "id": "7146dd19-f284-4bd9-954f-ff80c557a517",
   "metadata": {},
   "outputs": [],
   "source": [
    "def introduce_family(father = \"NA\",mother=\"NA\",sibling=\"NA\"):\n",
    "    '''\n",
    "    this function will take 3 arguments\n",
    "    about family and assign them to print\n",
    "    their names with relation\n",
    "    \n",
    "    '''\n",
    "    print(\"Father >> \",father)\n",
    "    print(\"Mother >> \",mother)\n",
    "    print(\"Sibling >> \",sibling)"
   ]
  },
  {
   "cell_type": "code",
   "execution_count": 35,
   "id": "b22bea68-4cba-4b87-83dd-72a3e13278f0",
   "metadata": {},
   "outputs": [
    {
     "name": "stdout",
     "output_type": "stream",
     "text": [
      "Father >>  Shahrukh\n",
      "Mother >>  Gauri\n",
      "Sibling >>  Suhana\n"
     ]
    }
   ],
   "source": [
    "introduce_family(\"Shahrukh\",\"Gauri\",\"Suhana\")"
   ]
  },
  {
   "cell_type": "code",
   "execution_count": 37,
   "id": "6f12b386-55e3-45ee-90d4-ba2e200e5b71",
   "metadata": {},
   "outputs": [
    {
     "name": "stdout",
     "output_type": "stream",
     "text": [
      "Father >>  Shahrukh\n",
      "Mother >>  NA\n",
      "Sibling >>  Suhana\n"
     ]
    }
   ],
   "source": [
    "introduce_family(sibling = \"Suhana\",father = \"Shahrukh\")"
   ]
  },
  {
   "cell_type": "code",
   "execution_count": 43,
   "id": "4d537442-3831-4717-8d8a-c4851df26b22",
   "metadata": {},
   "outputs": [
    {
     "data": {
      "text/plain": [
       "\u001b[1;31mSignature:\u001b[0m \u001b[0mintroduce_family\u001b[0m\u001b[1;33m(\u001b[0m\u001b[0mfather\u001b[0m\u001b[1;33m=\u001b[0m\u001b[1;34m'NA'\u001b[0m\u001b[1;33m,\u001b[0m \u001b[0mmother\u001b[0m\u001b[1;33m=\u001b[0m\u001b[1;34m'NA'\u001b[0m\u001b[1;33m,\u001b[0m \u001b[0msibling\u001b[0m\u001b[1;33m=\u001b[0m\u001b[1;34m'NA'\u001b[0m\u001b[1;33m)\u001b[0m\u001b[1;33m\u001b[0m\u001b[1;33m\u001b[0m\u001b[0m\n",
       "\u001b[1;31mDocstring:\u001b[0m\n",
       "this function will take 3 arguments\n",
       "about family and assign them to print\n",
       "their names with relation\n",
       "\u001b[1;31mFile:\u001b[0m      c:\\users\\naynish\\appdata\\local\\temp\\ipykernel_21612\\993729352.py\n",
       "\u001b[1;31mType:\u001b[0m      function"
      ]
     },
     "metadata": {},
     "output_type": "display_data"
    }
   ],
   "source": [
    "introduce_family?"
   ]
  },
  {
   "cell_type": "code",
   "execution_count": 44,
   "id": "3e5dbffa-59e0-4667-9ed1-9d07cfc5baec",
   "metadata": {},
   "outputs": [
    {
     "data": {
      "text/plain": [
       "'\\nTwo arguments - \\nArguments can only be int or float.\\n\\nOutput - Sum of both the arguments.\\n'"
      ]
     },
     "execution_count": 44,
     "metadata": {},
     "output_type": "execute_result"
    }
   ],
   "source": [
    "    '''\n",
    "    Two arguments - \n",
    "    Arguments can only be int or float.\n",
    "    \n",
    "    Output - Sum of both the arguments.\n",
    "    '''"
   ]
  },
  {
   "cell_type": "code",
   "execution_count": 60,
   "id": "f7ae894f-89c1-4373-952c-1d5be01bd4da",
   "metadata": {},
   "outputs": [],
   "source": [
    "def sum_of_two(a,b):\n",
    "    return a+b,a-b"
   ]
  },
  {
   "cell_type": "code",
   "execution_count": 61,
   "id": "da14e525-e54f-4720-92ad-0d1c01f9ff85",
   "metadata": {},
   "outputs": [
    {
     "data": {
      "text/plain": [
       "(14.5, -0.5)"
      ]
     },
     "execution_count": 61,
     "metadata": {},
     "output_type": "execute_result"
    }
   ],
   "source": [
    "sum_of_two(7,7.5)"
   ]
  },
  {
   "cell_type": "code",
   "execution_count": 48,
   "id": "7dbda060-30c7-43d2-81be-698bc6058684",
   "metadata": {},
   "outputs": [
    {
     "data": {
      "text/plain": [
       "20"
      ]
     },
     "execution_count": 48,
     "metadata": {},
     "output_type": "execute_result"
    }
   ],
   "source": [
    "sum([5,7]) + 8"
   ]
  },
  {
   "cell_type": "code",
   "execution_count": 52,
   "id": "d58ec220-9081-4199-900e-2a2b3a65fa08",
   "metadata": {},
   "outputs": [
    {
     "name": "stdout",
     "output_type": "stream",
     "text": [
      "Naynish\n"
     ]
    },
    {
     "data": {
      "text/plain": [
       "NoneType"
      ]
     },
     "execution_count": 52,
     "metadata": {},
     "output_type": "execute_result"
    }
   ],
   "source": [
    "type(print(\"Naynish\"))"
   ]
  },
  {
   "cell_type": "code",
   "execution_count": 51,
   "id": "82ffe261-2d15-4eb7-bee3-63d9ef80cf94",
   "metadata": {
    "scrolled": true
   },
   "outputs": [
    {
     "data": {
      "text/plain": [
       "'Naynish'"
      ]
     },
     "execution_count": 51,
     "metadata": {},
     "output_type": "execute_result"
    }
   ],
   "source": [
    "\"Naynish\""
   ]
  },
  {
   "cell_type": "code",
   "execution_count": 62,
   "id": "24f5402e-0531-44ed-b6bd-bee11a5810a8",
   "metadata": {},
   "outputs": [
    {
     "data": {
      "text/plain": [
       "'\\nQuestion 1 - \\nCreate a date printing function - \\nShould take 4 arguments -> day, month, year and style\\n\\nStyling Logic - \\nstyle -> 0 -> d/m/y\\nstyle -> 1 -> m/d/y\\nstyle -> any other value -> Invalid Style\\n\\ndefault style is 0.\\n'"
      ]
     },
     "execution_count": 62,
     "metadata": {},
     "output_type": "execute_result"
    }
   ],
   "source": [
    "'''\n",
    "Question 1 - \n",
    "Create a date printing function - \n",
    "Should take 4 arguments -> day, month, year and style\n",
    "\n",
    "Styling Logic - \n",
    "style -> 0 -> d/m/y\n",
    "style -> 1 -> m/d/y\n",
    "style -> any other value -> Invalid Style\n",
    "\n",
    "default style is 0.\n",
    "'''"
   ]
  },
  {
   "cell_type": "code",
   "execution_count": 67,
   "id": "976cc08a-ff9e-4d3e-a9ec-4afe49075fc3",
   "metadata": {},
   "outputs": [],
   "source": [
    "def date_printing(day,month,year,style = 0):\n",
    "    if style == 0:\n",
    "        print(day,month,year,sep = \"/\")\n",
    "    elif style == 1:\n",
    "        print(month,day,year,sep = \"/\")\n",
    "    else:\n",
    "        print(\"Invalid Style\")"
   ]
  },
  {
   "cell_type": "code",
   "execution_count": 68,
   "id": "1fed8af0-412c-4389-a4df-35f570c59685",
   "metadata": {},
   "outputs": [
    {
     "name": "stdout",
     "output_type": "stream",
     "text": [
      "Invalid Style\n"
     ]
    }
   ],
   "source": [
    "date_printing(25,9,2025,5)"
   ]
  },
  {
   "cell_type": "markdown",
   "id": "7764d48a-576f-4edd-9194-25a03b3433a6",
   "metadata": {},
   "source": [
    "1. Given the temperature of a day in Degrees Celsius, convert this given temperature from Celsius to Fahrenheit. Complete the function to do so. Round the output up to 2 decimal places\n",
    "\n",
    "**Note:**\n",
    "\n",
    "1. To round up the values -\n",
    "    - Python : Use **round(ans,2)** to round up ans to two decimals\n",
    "2. The formula to convert Celsius to Fahrenheit is: **F = (9/5 * C) + 32**"
   ]
  },
  {
   "cell_type": "code",
   "execution_count": 69,
   "id": "25d17633-8925-4291-b44e-c7f6cb1c6369",
   "metadata": {},
   "outputs": [],
   "source": [
    "def celsius_to_fah(Celcius):\n",
    "    F = (9/5 * Celcius) + 32\n",
    "    return round(F,2)"
   ]
  },
  {
   "cell_type": "code",
   "execution_count": 75,
   "id": "192a1f6f-7b33-48c7-a933-905bb45517f9",
   "metadata": {},
   "outputs": [
    {
     "data": {
      "text/plain": [
       "95.99"
      ]
     },
     "execution_count": 75,
     "metadata": {},
     "output_type": "execute_result"
    }
   ],
   "source": [
    "celsius_to_fah(35.55)"
   ]
  },
  {
   "cell_type": "code",
   "execution_count": null,
   "id": "9f5ff330-55cd-44bb-aa22-c8eb4901fdef",
   "metadata": {},
   "outputs": [],
   "source": []
  }
 ],
 "metadata": {
  "kernelspec": {
   "display_name": "Python 3 (ipykernel)",
   "language": "python",
   "name": "python3"
  },
  "language_info": {
   "codemirror_mode": {
    "name": "ipython",
    "version": 3
   },
   "file_extension": ".py",
   "mimetype": "text/x-python",
   "name": "python",
   "nbconvert_exporter": "python",
   "pygments_lexer": "ipython3",
   "version": "3.11.2"
  }
 },
 "nbformat": 4,
 "nbformat_minor": 5
}
