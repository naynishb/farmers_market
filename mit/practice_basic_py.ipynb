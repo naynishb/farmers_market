{
 "cells": [
  {
   "cell_type": "code",
   "execution_count": 1,
   "id": "89c79230-d0d5-4dae-9212-69a957f707fd",
   "metadata": {},
   "outputs": [],
   "source": [
    "# print(find_duplicates([4, 3, 2, 7, 8, 2,2,2,2, 3,3,3,3, 1]))  # Output: [2, 3]"
   ]
  },
  {
   "cell_type": "code",
   "execution_count": 4,
   "id": "fb3b9819-87eb-4b6c-9de0-78bbc9df2db4",
   "metadata": {},
   "outputs": [
    {
     "data": {
      "text/plain": [
       "5"
      ]
     },
     "execution_count": 4,
     "metadata": {},
     "output_type": "execute_result"
    }
   ],
   "source": [
    "[4, 3, 2, 7, 8, 2,2,2,2, 3,3,3,3, 1].count(3)"
   ]
  },
  {
   "cell_type": "code",
   "execution_count": 19,
   "id": "345876dc-abb8-4ac6-9f6d-b4a8d3a3446a",
   "metadata": {},
   "outputs": [],
   "source": [
    "def find_duplicates(input_list):\n",
    "    random = []\n",
    "    for i in set(input_list):\n",
    "        if input_list.count(i) > 1:\n",
    "          random.append(i)\n",
    "    return random"
   ]
  },
  {
   "cell_type": "code",
   "execution_count": 20,
   "id": "5ae2f8a7-ce43-4b8e-8461-e0ca8c86e8db",
   "metadata": {},
   "outputs": [
    {
     "data": {
      "text/plain": [
       "[1, 2, 3]"
      ]
     },
     "execution_count": 20,
     "metadata": {},
     "output_type": "execute_result"
    }
   ],
   "source": [
    "find_duplicates([4, 3, 2, 7, 8, 2,2,2,2, 3,3,3,3, 1,1])"
   ]
  },
  {
   "cell_type": "code",
   "execution_count": 28,
   "id": "1728914b-e20c-4165-95b2-2e06d1b7cdcf",
   "metadata": {},
   "outputs": [],
   "source": [
    "def find_duplicates1(input_list):\n",
    "    dict4 = {}\n",
    "    for i in set(input_list):\n",
    "        if input_list.count(i) > 1:\n",
    "          dict4[i] = input_list.count(i)\n",
    "    return list(dict4.keys())"
   ]
  },
  {
   "cell_type": "code",
   "execution_count": 30,
   "id": "ef6e8980-a6f5-4336-966c-30644999b894",
   "metadata": {},
   "outputs": [
    {
     "data": {
      "text/plain": [
       "[1, 2, 3]"
      ]
     },
     "execution_count": 30,
     "metadata": {},
     "output_type": "execute_result"
    }
   ],
   "source": [
    "find_duplicates1([4, 3, 2, 7, 8, 2,2,2,2, 3,3,3,3, 1,1])"
   ]
  },
  {
   "cell_type": "code",
   "execution_count": 31,
   "id": "0cc5847c-3351-4abe-b4c2-4a9c5f0d85a5",
   "metadata": {},
   "outputs": [
    {
     "data": {
      "text/plain": [
       "'\\nWrite a function that takes a list of strings and groups them into anagrams. \\nReturn a list of lists, where each inner list contains words that are anagrams of each other.\\n[\"eat\", \"tea\", \"tan\", \"ate\", \"nat\", \"bat\"]\\n\\noutput = [[\\'eat\\', \\'tea\\', \\'ate\\'], [\\'tan\\', \\'nat\\'], [\\'bat\\']]\\n'"
      ]
     },
     "execution_count": 31,
     "metadata": {},
     "output_type": "execute_result"
    }
   ],
   "source": [
    "'''\n",
    "Write a function that takes a list of strings and groups them into anagrams. \n",
    "Return a list of lists, where each inner list contains words that are anagrams of each other.\n",
    "[\"eat\", \"tea\", \"tan\", \"ate\", \"nat\", \"bat\"]\n",
    "\n",
    "output = [['eat', 'tea', 'ate'], ['tan', 'nat'], ['bat']]\n",
    "'''"
   ]
  },
  {
   "cell_type": "code",
   "execution_count": 42,
   "id": "ae696f30-bf36-499f-beba-e6c37a5b7662",
   "metadata": {},
   "outputs": [],
   "source": [
    "def group_anagrams(list_of_words):\n",
    "    anagrams = {}\n",
    "    for i in list_of_words:\n",
    "        key = tuple(sorted(i))\n",
    "        if key in anagrams:\n",
    "            anagrams[key].append(i)\n",
    "        else:\n",
    "            anagrams[key] = [i]\n",
    "    return list(anagrams.values())"
   ]
  },
  {
   "cell_type": "code",
   "execution_count": 43,
   "id": "102fae4e-bd2d-4d41-8c2d-af2e27bc03b6",
   "metadata": {},
   "outputs": [
    {
     "data": {
      "text/plain": [
       "[['eat', 'tea', 'ate'], ['tan', 'nat'], ['bat']]"
      ]
     },
     "execution_count": 43,
     "metadata": {},
     "output_type": "execute_result"
    }
   ],
   "source": [
    "group_anagrams([\"eat\", \"tea\", \"tan\", \"ate\", \"nat\", \"bat\"])"
   ]
  },
  {
   "cell_type": "code",
   "execution_count": 46,
   "id": "ca2ef3a7-9e62-4429-85f4-3524408a6388",
   "metadata": {},
   "outputs": [],
   "source": [
    "original = {\"a\": 1, \"b\": 2, \"c\": 3}\n",
    "# Output: {'a': 2, 'b': 4, 'c': 6}"
   ]
  },
  {
   "cell_type": "code",
   "execution_count": 49,
   "id": "0cc0c8b7-fd5f-4961-a900-bc88f37123cd",
   "metadata": {},
   "outputs": [],
   "source": [
    "def double_values(input_dict):\n",
    "    resultant = {}\n",
    "    for key,value in input_dict.items():\n",
    "        resultant[key] = value*2\n",
    "    return resultant"
   ]
  },
  {
   "cell_type": "code",
   "execution_count": 50,
   "id": "a5e5ee39-9a08-49bb-987b-3227a842b7b0",
   "metadata": {},
   "outputs": [
    {
     "data": {
      "text/plain": [
       "{'a': 2, 'b': 4, 'c': 6}"
      ]
     },
     "execution_count": 50,
     "metadata": {},
     "output_type": "execute_result"
    }
   ],
   "source": [
    "double_values(original)"
   ]
  },
  {
   "cell_type": "code",
   "execution_count": null,
   "id": "98199d67-8660-43b8-9803-1d8e892a4cb5",
   "metadata": {},
   "outputs": [],
   "source": []
  }
 ],
 "metadata": {
  "kernelspec": {
   "display_name": "Python 3 (ipykernel)",
   "language": "python",
   "name": "python3"
  },
  "language_info": {
   "codemirror_mode": {
    "name": "ipython",
    "version": 3
   },
   "file_extension": ".py",
   "mimetype": "text/x-python",
   "name": "python",
   "nbconvert_exporter": "python",
   "pygments_lexer": "ipython3",
   "version": "3.11.2"
  }
 },
 "nbformat": 4,
 "nbformat_minor": 5
}
