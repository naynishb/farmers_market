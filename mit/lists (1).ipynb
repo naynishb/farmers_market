{
 "cells": [
  {
   "cell_type": "code",
   "execution_count": 36,
   "id": "fc377536-36c2-4d24-8acf-9ef9ae5b910c",
   "metadata": {},
   "outputs": [],
   "source": [
    "virat_runs_1 = 60"
   ]
  },
  {
   "cell_type": "code",
   "execution_count": 37,
   "id": "1d963c2c-b5c9-4d9b-8981-01350d577898",
   "metadata": {},
   "outputs": [
    {
     "data": {
      "text/plain": [
       "60"
      ]
     },
     "execution_count": 37,
     "metadata": {},
     "output_type": "execute_result"
    }
   ],
   "source": [
    "virat_runs_1"
   ]
  },
  {
   "cell_type": "code",
   "execution_count": 38,
   "id": "26b5f833-e156-4082-8b4a-ceab2f36ea7b",
   "metadata": {},
   "outputs": [],
   "source": [
    "virat_runs_200 = 30"
   ]
  },
  {
   "cell_type": "code",
   "execution_count": 39,
   "id": "38cb2c32-0921-40c0-8063-1ff3202c0eb5",
   "metadata": {},
   "outputs": [
    {
     "data": {
      "text/plain": [
       "30"
      ]
     },
     "execution_count": 39,
     "metadata": {},
     "output_type": "execute_result"
    }
   ],
   "source": [
    "virat_runs_200"
   ]
  },
  {
   "cell_type": "code",
   "execution_count": 40,
   "id": "7b2310f5-30fe-454d-8f0a-0aae31db0d1d",
   "metadata": {},
   "outputs": [],
   "source": [
    "virat_runs = [40,70,30]\n",
    "#             0   1  2"
   ]
  },
  {
   "cell_type": "code",
   "execution_count": 41,
   "id": "3ed585dc-3f91-4671-a1ce-cbe9db658656",
   "metadata": {},
   "outputs": [
    {
     "data": {
      "text/plain": [
       "70"
      ]
     },
     "execution_count": 41,
     "metadata": {},
     "output_type": "execute_result"
    }
   ],
   "source": [
    "virat_runs[1]"
   ]
  },
  {
   "cell_type": "code",
   "execution_count": 42,
   "id": "22bd3d78-6d39-4a55-a5c0-573d567c5282",
   "metadata": {},
   "outputs": [
    {
     "data": {
      "text/plain": [
       "list"
      ]
     },
     "execution_count": 42,
     "metadata": {},
     "output_type": "execute_result"
    }
   ],
   "source": [
    "type(virat_runs)"
   ]
  },
  {
   "cell_type": "code",
   "execution_count": 43,
   "id": "d5422004-5a67-4b48-997c-5d9d3ecc61fe",
   "metadata": {},
   "outputs": [],
   "source": [
    "#  negative -11-10-9 -8 -7 -6 -5 -4 -3 -2  -1\n",
    "dhoni_runs = [5,50,7,60,10,55,50,11,33,66,100]\n",
    "#             0 1  2  3  4  5  6  7 8  9  10  "
   ]
  },
  {
   "cell_type": "code",
   "execution_count": 44,
   "id": "52151a51-c6b7-4732-bb47-eac8df441a2d",
   "metadata": {},
   "outputs": [
    {
     "data": {
      "text/plain": [
       "66"
      ]
     },
     "execution_count": 44,
     "metadata": {},
     "output_type": "execute_result"
    }
   ],
   "source": [
    "dhoni_runs[-2]"
   ]
  },
  {
   "cell_type": "code",
   "execution_count": 45,
   "id": "74d9f798-2e25-43c3-b60c-04ade4d3294e",
   "metadata": {},
   "outputs": [
    {
     "data": {
      "text/plain": [
       "11"
      ]
     },
     "execution_count": 45,
     "metadata": {},
     "output_type": "execute_result"
    }
   ],
   "source": [
    "len(dhoni_runs)"
   ]
  },
  {
   "cell_type": "code",
   "execution_count": 46,
   "id": "d25668d0-ca3c-4b4b-bf0f-2b14af17c8eb",
   "metadata": {},
   "outputs": [
    {
     "data": {
      "text/plain": [
       "[5, 50, 7, 60, 10, 55, 50, 11, 33, 66, 100]"
      ]
     },
     "execution_count": 46,
     "metadata": {},
     "output_type": "execute_result"
    }
   ],
   "source": [
    "dhoni_runs"
   ]
  },
  {
   "cell_type": "code",
   "execution_count": 47,
   "id": "d54d51bd-1cd0-4626-bddd-0b0048a044a9",
   "metadata": {},
   "outputs": [],
   "source": [
    "dhoni_runs.append(1000)"
   ]
  },
  {
   "cell_type": "code",
   "execution_count": 48,
   "id": "dd4ff6b0-3eb5-46fb-8a2d-ace8267bc4e3",
   "metadata": {},
   "outputs": [
    {
     "data": {
      "text/plain": [
       "[5, 50, 7, 60, 10, 55, 50, 11, 33, 66, 100, 1000]"
      ]
     },
     "execution_count": 48,
     "metadata": {},
     "output_type": "execute_result"
    }
   ],
   "source": [
    "dhoni_runs"
   ]
  },
  {
   "cell_type": "code",
   "execution_count": 49,
   "id": "c4927240-b238-4c4c-a25e-9c909214056a",
   "metadata": {},
   "outputs": [],
   "source": [
    "dhoni_runs.insert(4,555)"
   ]
  },
  {
   "cell_type": "code",
   "execution_count": 50,
   "id": "df48dbc7-ac60-4d1b-8929-e0169ba46007",
   "metadata": {},
   "outputs": [
    {
     "data": {
      "text/plain": [
       "[5, 50, 7, 60, 555, 10, 55, 50, 11, 33, 66, 100, 1000]"
      ]
     },
     "execution_count": 50,
     "metadata": {},
     "output_type": "execute_result"
    }
   ],
   "source": [
    "dhoni_runs"
   ]
  },
  {
   "cell_type": "code",
   "execution_count": 51,
   "id": "b97d5926-8890-49c7-82a1-3b8317d9f860",
   "metadata": {},
   "outputs": [
    {
     "data": {
      "text/plain": [
       "10"
      ]
     },
     "execution_count": 51,
     "metadata": {},
     "output_type": "execute_result"
    }
   ],
   "source": [
    "dhoni_runs.index(66)"
   ]
  },
  {
   "cell_type": "code",
   "execution_count": 52,
   "id": "34d4f45e-c485-439d-9b9d-0d99e78e160f",
   "metadata": {},
   "outputs": [],
   "source": [
    "dhoni_runs.extend([777,44,555])"
   ]
  },
  {
   "cell_type": "code",
   "execution_count": 53,
   "id": "cea73113-0235-4132-a503-2e2ed440ecb5",
   "metadata": {},
   "outputs": [
    {
     "data": {
      "text/plain": [
       "[5, 50, 7, 60, 555, 10, 55, 50, 11, 33, 66, 100, 1000, 777, 44, 555]"
      ]
     },
     "execution_count": 53,
     "metadata": {},
     "output_type": "execute_result"
    }
   ],
   "source": [
    "dhoni_runs"
   ]
  },
  {
   "cell_type": "code",
   "execution_count": 54,
   "id": "71f4251f-1aea-4fbb-8485-cd74630a341c",
   "metadata": {},
   "outputs": [
    {
     "data": {
      "text/plain": [
       "'\\nAppend -> Add one value to the end\\nInsert -> Add a value at any index of choice\\nExtend -> Append multiple values at the end\\n'"
      ]
     },
     "execution_count": 54,
     "metadata": {},
     "output_type": "execute_result"
    }
   ],
   "source": [
    "'''\n",
    "Append -> Add one value to the end\n",
    "Insert -> Add a value at any index of choice\n",
    "Extend -> Append multiple values at the end\n",
    "'''"
   ]
  },
  {
   "cell_type": "code",
   "execution_count": 55,
   "id": "b4b55b1b-a7e6-40bd-bd1f-7355bfd209a0",
   "metadata": {},
   "outputs": [
    {
     "name": "stdout",
     "output_type": "stream",
     "text": [
      "5 50 7 60 555 10 55 50 11 33 66 100 1000 777 44 555 "
     ]
    }
   ],
   "source": [
    "for i in dhoni_runs:\n",
    "    print(i,end = \" \")"
   ]
  },
  {
   "cell_type": "code",
   "execution_count": 56,
   "id": "4410d9fa-4123-462a-ba7d-d41defc0ab92",
   "metadata": {},
   "outputs": [
    {
     "data": {
      "text/plain": [
       "15"
      ]
     },
     "execution_count": 56,
     "metadata": {},
     "output_type": "execute_result"
    }
   ],
   "source": [
    "sum([4,5,6])"
   ]
  },
  {
   "cell_type": "code",
   "execution_count": 57,
   "id": "ea104bda-ce2b-4be9-80ff-750be85c6dab",
   "metadata": {},
   "outputs": [
    {
     "data": {
      "text/plain": [
       "3378"
      ]
     },
     "execution_count": 57,
     "metadata": {},
     "output_type": "execute_result"
    }
   ],
   "source": [
    "sum(dhoni_runs)"
   ]
  },
  {
   "cell_type": "code",
   "execution_count": 58,
   "id": "d24d5cc2-0722-4c7b-91df-ae38afcd7b6e",
   "metadata": {},
   "outputs": [
    {
     "data": {
      "text/plain": [
       "7"
      ]
     },
     "execution_count": 58,
     "metadata": {},
     "output_type": "execute_result"
    }
   ],
   "source": [
    "min(7,8)"
   ]
  },
  {
   "cell_type": "code",
   "execution_count": 59,
   "id": "a4b8be5c-beab-48bc-b0c9-46a027667e71",
   "metadata": {},
   "outputs": [
    {
     "data": {
      "text/plain": [
       "1000"
      ]
     },
     "execution_count": 59,
     "metadata": {},
     "output_type": "execute_result"
    }
   ],
   "source": [
    "max(dhoni_runs)"
   ]
  },
  {
   "cell_type": "code",
   "execution_count": 60,
   "id": "84a88761-390c-4dfe-9c87-f0a6cc0352ae",
   "metadata": {},
   "outputs": [],
   "source": [
    "import numpy as np"
   ]
  },
  {
   "cell_type": "code",
   "execution_count": 61,
   "id": "e015d49a-aed0-414f-93c3-438ff383d3a2",
   "metadata": {},
   "outputs": [
    {
     "data": {
      "text/plain": [
       "211.125"
      ]
     },
     "execution_count": 61,
     "metadata": {},
     "output_type": "execute_result"
    }
   ],
   "source": [
    "np.average(dhoni_runs)"
   ]
  },
  {
   "cell_type": "code",
   "execution_count": 62,
   "id": "cd96c7d6-d46a-435c-b935-164e38b709c9",
   "metadata": {},
   "outputs": [
    {
     "data": {
      "text/plain": [
       "'\\nQuestion 1 - \\nruns_virat = [67, 54, 12, 34, 77, 89, 101, 120]\\nIn runs_virat -> Calculate, sum, avg, max and min runs.\\nWithout using any internal functions. You can use the length function.\\n'"
      ]
     },
     "execution_count": 62,
     "metadata": {},
     "output_type": "execute_result"
    }
   ],
   "source": [
    "'''\n",
    "Question 1 - \n",
    "runs_virat = [67, 54, 12, 34, 77, 89, 101, 120]\n",
    "In runs_virat -> Calculate, sum, avg, max and min runs.\n",
    "Without using any internal functions. You can use the length function.\n",
    "'''"
   ]
  },
  {
   "cell_type": "code",
   "execution_count": 63,
   "id": "4579aa90-6dce-4f2a-9030-9642992385ae",
   "metadata": {},
   "outputs": [],
   "source": [
    "runs_virat = [67, 54, 12, 34, 77, 89, 101, 120]\n",
    "\n",
    "def custom_sum(list_input):\n",
    "    sum_N = 0\n",
    "    for i in list_input:\n",
    "        sum_N += i\n",
    "    return sum_N"
   ]
  },
  {
   "cell_type": "code",
   "execution_count": 64,
   "id": "11b1f46d-c2d0-421d-aaae-ce36ade08c8f",
   "metadata": {},
   "outputs": [
    {
     "data": {
      "text/plain": [
       "69.25"
      ]
     },
     "execution_count": 64,
     "metadata": {},
     "output_type": "execute_result"
    }
   ],
   "source": [
    "custom_sum(runs_virat) / len(runs_virat)"
   ]
  },
  {
   "cell_type": "code",
   "execution_count": 65,
   "id": "3471e06b-19c9-4d4d-ac1b-63468f647cb1",
   "metadata": {},
   "outputs": [],
   "source": [
    "def custom_min(list_input):\n",
    "    min_value = list_input[0]\n",
    "    for i in range(len(list_input)):\n",
    "        if list_input[i] < min_value:\n",
    "            min_value = list_input[i]\n",
    "    return min_value"
   ]
  },
  {
   "cell_type": "code",
   "execution_count": 66,
   "id": "46d6740d-f84e-4df8-84f5-8c353a9625b5",
   "metadata": {},
   "outputs": [
    {
     "data": {
      "text/plain": [
       "11"
      ]
     },
     "execution_count": 66,
     "metadata": {},
     "output_type": "execute_result"
    }
   ],
   "source": [
    "custom_min([100,55,11])"
   ]
  },
  {
   "cell_type": "code",
   "execution_count": 67,
   "id": "051c5a2c-8070-4f2c-99a1-146dbfc391f0",
   "metadata": {},
   "outputs": [
    {
     "data": {
      "text/plain": [
       "[5, 50, 7, 60, 555, 10, 55, 50, 11, 33, 66, 100, 1000, 777, 44, 555]"
      ]
     },
     "execution_count": 67,
     "metadata": {},
     "output_type": "execute_result"
    }
   ],
   "source": [
    "dhoni_runs"
   ]
  },
  {
   "cell_type": "code",
   "execution_count": 68,
   "id": "7c7c9cd5-8257-434e-abb3-d74af76bc43c",
   "metadata": {},
   "outputs": [
    {
     "data": {
      "text/plain": [
       "60"
      ]
     },
     "execution_count": 68,
     "metadata": {},
     "output_type": "execute_result"
    }
   ],
   "source": [
    "dhoni_runs.pop(3)"
   ]
  },
  {
   "cell_type": "code",
   "execution_count": 69,
   "id": "d755a5b4-479e-482c-9b5c-ad4582caf072",
   "metadata": {},
   "outputs": [],
   "source": [
    "dhoni_runs.remove(50)"
   ]
  },
  {
   "cell_type": "code",
   "execution_count": 70,
   "id": "c52a0efa-83c8-40e9-a3f6-27c342924b10",
   "metadata": {},
   "outputs": [
    {
     "data": {
      "text/plain": [
       "1"
      ]
     },
     "execution_count": 70,
     "metadata": {},
     "output_type": "execute_result"
    }
   ],
   "source": [
    "dhoni_runs.count(1000)"
   ]
  },
  {
   "cell_type": "code",
   "execution_count": 71,
   "id": "b8176bd3-96fe-4de3-a175-2bf46b5741da",
   "metadata": {},
   "outputs": [
    {
     "data": {
      "text/plain": [
       "[5, 7, 555, 10, 55, 50, 11, 33, 66, 100, 1000, 777, 44, 555]"
      ]
     },
     "execution_count": 71,
     "metadata": {},
     "output_type": "execute_result"
    }
   ],
   "source": [
    "dhoni_runs"
   ]
  },
  {
   "cell_type": "code",
   "execution_count": 72,
   "id": "a7436c61-600f-4890-8b75-9efb9936c470",
   "metadata": {},
   "outputs": [],
   "source": [
    "dhoni_runs.reverse()"
   ]
  },
  {
   "cell_type": "code",
   "execution_count": 73,
   "id": "76298ccf-f02b-4cca-b6b2-69f9649e4e38",
   "metadata": {},
   "outputs": [
    {
     "data": {
      "text/plain": [
       "[555, 44, 777, 1000, 100, 66, 33, 11, 50, 55, 10, 555, 7, 5]"
      ]
     },
     "execution_count": 73,
     "metadata": {},
     "output_type": "execute_result"
    }
   ],
   "source": [
    "dhoni_runs"
   ]
  },
  {
   "cell_type": "code",
   "execution_count": 74,
   "id": "e69653ea-4bb3-46dc-b779-6ab88c335614",
   "metadata": {},
   "outputs": [],
   "source": [
    "dhoni_runs.sort()"
   ]
  },
  {
   "cell_type": "code",
   "execution_count": 75,
   "id": "c1a56699-90d1-4834-8107-d2370d058004",
   "metadata": {},
   "outputs": [
    {
     "data": {
      "text/plain": [
       "[5, 7, 10, 11, 33, 44, 50, 55, 66, 100, 555, 555, 777, 1000]"
      ]
     },
     "execution_count": 75,
     "metadata": {},
     "output_type": "execute_result"
    }
   ],
   "source": [
    "dhoni_runs"
   ]
  },
  {
   "cell_type": "code",
   "execution_count": 76,
   "id": "e314ee4c-4085-4ec7-bd8c-fea11992ac76",
   "metadata": {},
   "outputs": [],
   "source": [
    "numbers = [1,2,3,4,5,6]  # square the list\n",
    "empty_list = []\n",
    "for i in numbers:\n",
    "    empty_list.append(i**2)"
   ]
  },
  {
   "cell_type": "code",
   "execution_count": 77,
   "id": "6fbe202b-5308-4c7b-b88b-14fb45cf58d2",
   "metadata": {},
   "outputs": [
    {
     "data": {
      "text/plain": [
       "[1, 4, 9, 16, 25, 36]"
      ]
     },
     "execution_count": 77,
     "metadata": {},
     "output_type": "execute_result"
    }
   ],
   "source": [
    "empty_list"
   ]
  },
  {
   "cell_type": "code",
   "execution_count": 78,
   "id": "691241ac-50b6-4acf-a71f-ffa46a5161be",
   "metadata": {},
   "outputs": [
    {
     "data": {
      "text/plain": [
       "[5.916079783099616, 4.0]"
      ]
     },
     "execution_count": 78,
     "metadata": {},
     "output_type": "execute_result"
    }
   ],
   "source": [
    "import math\n",
    "list(map(math.sqrt,[35,16]))"
   ]
  },
  {
   "cell_type": "code",
   "execution_count": 79,
   "id": "bc7c56c4-ad7d-4976-8110-3e9af661ce9e",
   "metadata": {},
   "outputs": [
    {
     "data": {
      "text/plain": [
       "[9, 16]"
      ]
     },
     "execution_count": 79,
     "metadata": {},
     "output_type": "execute_result"
    }
   ],
   "source": [
    "list(map(lambda x:x**2,[3,4]))"
   ]
  },
  {
   "cell_type": "code",
   "execution_count": 80,
   "id": "18751657-a5e3-48ee-b4c5-6272cba51199",
   "metadata": {},
   "outputs": [
    {
     "data": {
      "text/plain": [
       "[None, 2, None, 4, None, 6]"
      ]
     },
     "execution_count": 80,
     "metadata": {},
     "output_type": "execute_result"
    }
   ],
   "source": [
    "list(map(lambda x: x if x % 2 == 0 else None,numbers))"
   ]
  },
  {
   "cell_type": "code",
   "execution_count": 81,
   "id": "b89c8b6a-08ed-466f-927f-a78e308bd75d",
   "metadata": {},
   "outputs": [
    {
     "data": {
      "text/plain": [
       "[2, 4, 6]"
      ]
     },
     "execution_count": 81,
     "metadata": {},
     "output_type": "execute_result"
    }
   ],
   "source": [
    "list(filter(lambda x: x if x % 2 == 0 else None,numbers))"
   ]
  },
  {
   "cell_type": "markdown",
   "id": "40dd60c3-3fec-4bef-ac15-80c07308e94b",
   "metadata": {},
   "source": [
    "____\n",
    "\n",
    "Write a program to find the difference between the sum of all **even elements** and the sum   <br>    of all **odd elements** from the given array, A.\n",
    "\n",
    "**Note:** The array of elements will be passed as an argument to the function. You don't need to take any input of array."
   ]
  },
  {
   "cell_type": "code",
   "execution_count": 82,
   "id": "125d0d11-f7a6-40d2-bd49-cb2097526305",
   "metadata": {},
   "outputs": [
    {
     "data": {
      "text/plain": [
       "[1, 2, 3, 4, 5, 6]"
      ]
     },
     "execution_count": 82,
     "metadata": {},
     "output_type": "execute_result"
    }
   ],
   "source": [
    "numbers"
   ]
  },
  {
   "cell_type": "code",
   "execution_count": 83,
   "id": "cbd07d53-653e-464a-acad-1a6e7ddd858d",
   "metadata": {},
   "outputs": [
    {
     "data": {
      "text/plain": [
       "3"
      ]
     },
     "execution_count": 83,
     "metadata": {},
     "output_type": "execute_result"
    }
   ],
   "source": [
    "sum(list(filter(lambda x: x if x % 2 == 0 else None,numbers))) - sum(list(filter(lambda x: x if x % 2 != 0 else None,numbers)))"
   ]
  },
  {
   "cell_type": "code",
   "execution_count": 84,
   "id": "9128b09b-5b63-4b12-bf70-31159717eb19",
   "metadata": {},
   "outputs": [
    {
     "data": {
      "text/plain": [
       "9"
      ]
     },
     "execution_count": 84,
     "metadata": {},
     "output_type": "execute_result"
    }
   ],
   "source": [
    "sum(list(filter(lambda x: x if x % 2 != 0 else None,numbers)))"
   ]
  },
  {
   "cell_type": "code",
   "execution_count": 85,
   "id": "3f6cef7c-8eae-42ff-9639-69ba6fec5fb5",
   "metadata": {},
   "outputs": [
    {
     "data": {
      "text/plain": [
       "[67, 12, 34, 89, 101, 120, 111, 56, 78, 63]"
      ]
     },
     "execution_count": 85,
     "metadata": {},
     "output_type": "execute_result"
    }
   ],
   "source": [
    "#               0    1   2   3   4    5    6    7   8   9\n",
    "virat_2_runs = [67, 12, 34, 89, 101, 120, 111, 56, 78, 63]\n",
    "#              -10  -9  -8  -7  -6  -5    -4   -3  -2  -1\n",
    "virat_2_runs"
   ]
  },
  {
   "cell_type": "code",
   "execution_count": 86,
   "id": "a9f92f05-4846-42ae-94ce-86a578139765",
   "metadata": {},
   "outputs": [
    {
     "data": {
      "text/plain": [
       "[78, 56, 111, 120]"
      ]
     },
     "execution_count": 86,
     "metadata": {},
     "output_type": "execute_result"
    }
   ],
   "source": [
    "virat_2_runs[-2:-6:-1]"
   ]
  },
  {
   "cell_type": "code",
   "execution_count": 87,
   "id": "21bf9407-d30c-4c1a-af3d-f129c74cfa1b",
   "metadata": {},
   "outputs": [
    {
     "data": {
      "text/plain": [
       "[67, 34, 89]"
      ]
     },
     "execution_count": 87,
     "metadata": {},
     "output_type": "execute_result"
    }
   ],
   "source": [
    "[virat_2_runs[0],virat_2_runs[2],virat_2_runs[3]]"
   ]
  },
  {
   "cell_type": "code",
   "execution_count": 88,
   "id": "e356394b-482a-4a40-aec5-27f440a6d785",
   "metadata": {},
   "outputs": [],
   "source": [
    "a = [10,20,30,40,50,60,70,80,90,100]"
   ]
  },
  {
   "cell_type": "code",
   "execution_count": 89,
   "id": "35e9af61-718e-4f47-bec3-d40f45dc7f29",
   "metadata": {},
   "outputs": [
    {
     "data": {
      "text/plain": [
       "[30, 40, 50]"
      ]
     },
     "execution_count": 89,
     "metadata": {},
     "output_type": "execute_result"
    }
   ],
   "source": [
    "a[-8:5]"
   ]
  },
  {
   "cell_type": "code",
   "execution_count": 90,
   "id": "499721d2-58d3-4a72-8769-974857feac2c",
   "metadata": {},
   "outputs": [
    {
     "data": {
      "text/plain": [
       "'\\nQuestion 6 - \\na = [10,20,30,40,50,60,70,80,90,100]\\n\\n1. a[3:5]\\n2. a[:8]\\n3. a[:]\\n4. a[7:]\\n5. a[-2:-5:-1]\\n6. a[-2:-7]\\n7. a[:-5]\\n8. a[-2:]\\n9. a[-8:5]\\n10. a[-8:5:-1]\\n'"
      ]
     },
     "execution_count": 90,
     "metadata": {},
     "output_type": "execute_result"
    }
   ],
   "source": [
    "'''\n",
    "Question 6 - \n",
    "a = [10,20,30,40,50,60,70,80,90,100]\n",
    "\n",
    "1. a[3:5]\n",
    "2. a[:8]\n",
    "3. a[:]\n",
    "4. a[7:]\n",
    "5. a[-2:-5:-1]\n",
    "6. a[-2:-7]\n",
    "7. a[:-5]\n",
    "8. a[-2:]\n",
    "9. a[-8:5]\n",
    "10. a[-8:5:-1]\n",
    "'''"
   ]
  },
  {
   "cell_type": "code",
   "execution_count": 91,
   "id": "fced40ed-77e1-4442-a1a3-8e4c5e0a224e",
   "metadata": {},
   "outputs": [
    {
     "data": {
      "text/plain": [
       "[5, 7, 10, 11, 33, 44, 50, 55, 66, 100, 555, 555, 777, 1000]"
      ]
     },
     "execution_count": 91,
     "metadata": {},
     "output_type": "execute_result"
    }
   ],
   "source": [
    "dhoni_runs"
   ]
  },
  {
   "cell_type": "markdown",
   "id": "51ccb969-f0cb-4705-86be-afaeb2986cd8",
   "metadata": {},
   "source": [
    "Write a program that returns the list of elements that are present in the given list and are divisible by 5 and 7."
   ]
  },
  {
   "cell_type": "code",
   "execution_count": 111,
   "id": "2e135d31-fb56-4570-8e2e-3f2ec26efa9e",
   "metadata": {},
   "outputs": [
    {
     "data": {
      "text/plain": [
       "[35, 70, 140, 140]"
      ]
     },
     "execution_count": 111,
     "metadata": {},
     "output_type": "execute_result"
    }
   ],
   "source": [
    "random = [35,70,10,60,90,140,11,140]\n",
    "final_output = []\n",
    "for i in random:\n",
    "    if i % 5 == 0 and i % 7 == 0:\n",
    "        final_output.append(i)\n",
    "final_output"
   ]
  },
  {
   "cell_type": "code",
   "execution_count": 96,
   "id": "ebe87571-3855-46e3-a8cb-16239d8c2640",
   "metadata": {},
   "outputs": [
    {
     "data": {
      "text/plain": [
       "[35, 70, 140]"
      ]
     },
     "execution_count": 96,
     "metadata": {},
     "output_type": "execute_result"
    }
   ],
   "source": [
    "list(filter(lambda i:i if i % 5 == 0 and i % 7 == 0 else None,random))"
   ]
  },
  {
   "cell_type": "markdown",
   "id": "3edca02d-ecf5-4283-abd1-65c105beb145",
   "metadata": {},
   "source": [
    "Write a Python program to find the second largest number in a list."
   ]
  },
  {
   "cell_type": "code",
   "execution_count": 97,
   "id": "7634392f-8ec3-4e6b-803d-0bd4b2f46dc3",
   "metadata": {},
   "outputs": [
    {
     "data": {
      "text/plain": [
       "[35, 70, 10, 60, 90, 140, 11]"
      ]
     },
     "execution_count": 97,
     "metadata": {},
     "output_type": "execute_result"
    }
   ],
   "source": [
    "random"
   ]
  },
  {
   "cell_type": "code",
   "execution_count": 112,
   "id": "5f2949a7-0bd2-410a-a33e-dad6f2580a85",
   "metadata": {},
   "outputs": [],
   "source": [
    "random_copy = random.copy()"
   ]
  },
  {
   "cell_type": "code",
   "execution_count": 113,
   "id": "8fe76378-863d-4bbe-9e1f-7dbc21dd8379",
   "metadata": {},
   "outputs": [],
   "source": [
    "random_copy.sort()"
   ]
  },
  {
   "cell_type": "code",
   "execution_count": 122,
   "id": "c31e01e2-f7da-46e9-98c0-ad47911ed89f",
   "metadata": {},
   "outputs": [
    {
     "data": {
      "text/plain": [
       "[10, 11, 35, 60, 70, 90, 140, 140]"
      ]
     },
     "execution_count": 122,
     "metadata": {},
     "output_type": "execute_result"
    }
   ],
   "source": [
    "random_copy"
   ]
  },
  {
   "cell_type": "code",
   "execution_count": 123,
   "id": "228341e1-38a3-46b6-aaef-3aacbbaf036a",
   "metadata": {},
   "outputs": [],
   "source": [
    "empty_list = []\n",
    "for i in random_copy:\n",
    "    if i < max(random_copy):\n",
    "        empty_list.append(i)"
   ]
  },
  {
   "cell_type": "code",
   "execution_count": 125,
   "id": "e39ead9a-c7ea-46bf-bd13-f09031968d3a",
   "metadata": {},
   "outputs": [
    {
     "data": {
      "text/plain": [
       "90"
      ]
     },
     "execution_count": 125,
     "metadata": {},
     "output_type": "execute_result"
    }
   ],
   "source": [
    "empty_list[-1]"
   ]
  },
  {
   "cell_type": "code",
   "execution_count": 126,
   "id": "6acf8c27-3133-40d9-af4d-6b50a77959d9",
   "metadata": {},
   "outputs": [
    {
     "name": "stdin",
     "output_type": "stream",
     "text": [
      " [1,2,3,4,5,6]\n"
     ]
    },
    {
     "data": {
      "text/plain": [
       "[1, 2, 3, 4, 5, 6]"
      ]
     },
     "execution_count": 126,
     "metadata": {},
     "output_type": "execute_result"
    }
   ],
   "source": [
    "list_input = eval(input())\n",
    "list_input"
   ]
  },
  {
   "cell_type": "code",
   "execution_count": 127,
   "id": "0f2cbf9f-f2d0-49d1-ba36-8b067d2a10bd",
   "metadata": {},
   "outputs": [
    {
     "data": {
      "text/plain": [
       "list"
      ]
     },
     "execution_count": 127,
     "metadata": {},
     "output_type": "execute_result"
    }
   ],
   "source": [
    "type(list_input)"
   ]
  },
  {
   "cell_type": "code",
   "execution_count": 128,
   "id": "f4595934-8c23-4fad-b776-ce0e48f9d222",
   "metadata": {},
   "outputs": [
    {
     "name": "stdin",
     "output_type": "stream",
     "text": [
      "enter number of elements 5\n",
      "enter element 77\n",
      "enter element 55\n",
      "enter element 33\n",
      "enter element 11\n",
      "enter element 22\n"
     ]
    },
    {
     "data": {
      "text/plain": [
       "[77, 55, 33, 11, 22]"
      ]
     },
     "execution_count": 128,
     "metadata": {},
     "output_type": "execute_result"
    }
   ],
   "source": [
    "resultant_list = []\n",
    "\n",
    "number_of_elements = int(input(\"enter number of elements\"))\n",
    "\n",
    "for i in range(number_of_elements):\n",
    "    element = int(input(\"enter element\"))\n",
    "    resultant_list.append(element)\n",
    "resultant_list"
   ]
  },
  {
   "cell_type": "code",
   "execution_count": 135,
   "id": "c42ff4aa-18a9-41ba-9975-f3cc9b27a3de",
   "metadata": {},
   "outputs": [
    {
     "name": "stdin",
     "output_type": "stream",
     "text": [
      " 1,2,3,4,5\n"
     ]
    }
   ],
   "source": [
    "list_direct_inpt = input()"
   ]
  },
  {
   "cell_type": "code",
   "execution_count": 136,
   "id": "be9d6eb1-f302-4c72-bcec-f6d97b6e9aa6",
   "metadata": {},
   "outputs": [
    {
     "data": {
      "text/plain": [
       "'1,2,3,4,5'"
      ]
     },
     "execution_count": 136,
     "metadata": {},
     "output_type": "execute_result"
    }
   ],
   "source": [
    "list_direct_inpt"
   ]
  },
  {
   "cell_type": "code",
   "execution_count": 141,
   "id": "faeaa146-b428-4a60-aaf8-c1e0edc94def",
   "metadata": {},
   "outputs": [
    {
     "name": "stdin",
     "output_type": "stream",
     "text": [
      " 1,2,5,8,7,6\n"
     ]
    },
    {
     "data": {
      "text/plain": [
       "[1, 2, 5, 8, 7, 6]"
      ]
     },
     "execution_count": 141,
     "metadata": {},
     "output_type": "execute_result"
    }
   ],
   "source": [
    "list_direct_inpt = input()\n",
    "new_list = list(map(int,list_direct_inpt.split(\",\")))\n",
    "new_list"
   ]
  },
  {
   "cell_type": "code",
   "execution_count": 142,
   "id": "5705ae79-7fe9-4dca-be68-ce8db7b0b739",
   "metadata": {},
   "outputs": [
    {
     "name": "stdin",
     "output_type": "stream",
     "text": [
      "enter elements with a space 1 2 3 5 4\n"
     ]
    },
    {
     "data": {
      "text/plain": [
       "[1, 2, 3, 5, 4]"
      ]
     },
     "execution_count": 142,
     "metadata": {},
     "output_type": "execute_result"
    }
   ],
   "source": [
    "list_direct_inpt = input(\"enter elements with a space\")\n",
    "new_list = list(map(int,list_direct_inpt.split()))\n",
    "new_list"
   ]
  },
  {
   "cell_type": "code",
   "execution_count": null,
   "id": "1c5b06c6-6216-4922-9232-8f38ca125d5a",
   "metadata": {},
   "outputs": [],
   "source": []
  }
 ],
 "metadata": {
  "kernelspec": {
   "display_name": "Python 3 (ipykernel)",
   "language": "python",
   "name": "python3"
  },
  "language_info": {
   "codemirror_mode": {
    "name": "ipython",
    "version": 3
   },
   "file_extension": ".py",
   "mimetype": "text/x-python",
   "name": "python",
   "nbconvert_exporter": "python",
   "pygments_lexer": "ipython3",
   "version": "3.11.2"
  }
 },
 "nbformat": 4,
 "nbformat_minor": 5
}
