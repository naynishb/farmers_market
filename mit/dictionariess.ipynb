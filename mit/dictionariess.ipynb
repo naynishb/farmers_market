{
 "cells": [
  {
   "cell_type": "code",
   "execution_count": 1,
   "id": "8b0fcbb3-6126-4045-b330-be6cd6171f07",
   "metadata": {},
   "outputs": [],
   "source": [
    "dict1 = {\"key1\":\"values1\",\"key2\":\"value2\"}"
   ]
  },
  {
   "cell_type": "code",
   "execution_count": 2,
   "id": "c131582a-b7c1-435d-b842-41ef311cd279",
   "metadata": {},
   "outputs": [
    {
     "data": {
      "text/plain": [
       "{'key1': 'values1', 'key2': 'value2'}"
      ]
     },
     "execution_count": 2,
     "metadata": {},
     "output_type": "execute_result"
    }
   ],
   "source": [
    "dict1"
   ]
  },
  {
   "cell_type": "code",
   "execution_count": 3,
   "id": "1d7a5ecb-b9da-4013-8721-378c5ee64016",
   "metadata": {},
   "outputs": [
    {
     "data": {
      "text/plain": [
       "dict"
      ]
     },
     "execution_count": 3,
     "metadata": {},
     "output_type": "execute_result"
    }
   ],
   "source": [
    "type(dict1)"
   ]
  },
  {
   "cell_type": "code",
   "execution_count": 4,
   "id": "433e38f4-399b-43ab-869f-d5b8644af87c",
   "metadata": {},
   "outputs": [
    {
     "data": {
      "text/plain": [
       "'value2'"
      ]
     },
     "execution_count": 4,
     "metadata": {},
     "output_type": "execute_result"
    }
   ],
   "source": [
    "dict1[\"key2\"]"
   ]
  },
  {
   "cell_type": "code",
   "execution_count": 5,
   "id": "26d4eb67-681e-47d6-9648-ad5cff01d090",
   "metadata": {},
   "outputs": [],
   "source": [
    "state_wise_data = {\n",
    "    \"Delhi\":100000,\n",
    "    \"Maharashtra\": 19000,\n",
    "    \"UP\":10900\n",
    "}"
   ]
  },
  {
   "cell_type": "code",
   "execution_count": 6,
   "id": "7f40bf1e-11da-4020-a635-b6d0a389ce30",
   "metadata": {},
   "outputs": [
    {
     "data": {
      "text/plain": [
       "{'Delhi': 100000, 'Maharashtra': 19000, 'UP': 10900}"
      ]
     },
     "execution_count": 6,
     "metadata": {},
     "output_type": "execute_result"
    }
   ],
   "source": [
    "state_wise_data"
   ]
  },
  {
   "cell_type": "code",
   "execution_count": 14,
   "id": "6fa689f4-61ef-46a8-b6a1-22f641363a6f",
   "metadata": {},
   "outputs": [
    {
     "data": {
      "text/plain": [
       "'Not Found'"
      ]
     },
     "execution_count": 14,
     "metadata": {},
     "output_type": "execute_result"
    }
   ],
   "source": [
    "state_wise_data.get(\"delhi\",\"Not Found\")"
   ]
  },
  {
   "cell_type": "code",
   "execution_count": 17,
   "id": "84b1d91e-4694-4288-8b85-1107e183719f",
   "metadata": {},
   "outputs": [],
   "source": [
    "# state_wise_data[\"delhi\"]"
   ]
  },
  {
   "cell_type": "code",
   "execution_count": 20,
   "id": "3e169dff-b07e-4082-bf5a-0ea564dc3704",
   "metadata": {},
   "outputs": [],
   "source": [
    "state_wise_data[\"delhi\"] = 15000"
   ]
  },
  {
   "cell_type": "code",
   "execution_count": 21,
   "id": "31e7c61f-fcff-4110-bcc3-227f3d7230b5",
   "metadata": {},
   "outputs": [
    {
     "data": {
      "text/plain": [
       "{'Delhi': 15000, 'Maharashtra': 19000, 'UP': 10900, 'delhi': 15000}"
      ]
     },
     "execution_count": 21,
     "metadata": {},
     "output_type": "execute_result"
    }
   ],
   "source": [
    "state_wise_data"
   ]
  },
  {
   "cell_type": "code",
   "execution_count": 22,
   "id": "ec37caea-54a5-4df9-9685-7976d6800cd3",
   "metadata": {},
   "outputs": [],
   "source": [
    "state_wise_data[\"Tamil Nadu\"] = 45631"
   ]
  },
  {
   "cell_type": "code",
   "execution_count": 23,
   "id": "ffda3db0-9bb2-4d00-909d-a9ce094e7495",
   "metadata": {},
   "outputs": [
    {
     "data": {
      "text/plain": [
       "{'Delhi': 15000,\n",
       " 'Maharashtra': 19000,\n",
       " 'UP': 10900,\n",
       " 'delhi': 15000,\n",
       " 'Tamil Nadu': 45631}"
      ]
     },
     "execution_count": 23,
     "metadata": {},
     "output_type": "execute_result"
    }
   ],
   "source": [
    "state_wise_data"
   ]
  },
  {
   "cell_type": "code",
   "execution_count": 25,
   "id": "f2abd00f-131a-4abd-8164-5740cdaf0ddc",
   "metadata": {},
   "outputs": [
    {
     "data": {
      "text/plain": [
       "15000"
      ]
     },
     "execution_count": 25,
     "metadata": {},
     "output_type": "execute_result"
    }
   ],
   "source": [
    "state_wise_data.pop(\"delhi\")"
   ]
  },
  {
   "cell_type": "code",
   "execution_count": 26,
   "id": "81b242fa-de2e-4768-9e3f-96126f2d235d",
   "metadata": {},
   "outputs": [
    {
     "data": {
      "text/plain": [
       "{'Delhi': 15000, 'Maharashtra': 19000, 'UP': 10900, 'Tamil Nadu': 45631}"
      ]
     },
     "execution_count": 26,
     "metadata": {},
     "output_type": "execute_result"
    }
   ],
   "source": [
    "state_wise_data"
   ]
  },
  {
   "cell_type": "code",
   "execution_count": 27,
   "id": "4b1b23bf-8ede-42d4-8577-51419fc45c6b",
   "metadata": {},
   "outputs": [
    {
     "data": {
      "text/plain": [
       "('Tamil Nadu', 45631)"
      ]
     },
     "execution_count": 27,
     "metadata": {},
     "output_type": "execute_result"
    }
   ],
   "source": [
    "state_wise_data.popitem()"
   ]
  },
  {
   "cell_type": "code",
   "execution_count": 28,
   "id": "2cad9331-9c6f-4003-b4cc-3f0750085def",
   "metadata": {},
   "outputs": [
    {
     "data": {
      "text/plain": [
       "{'Delhi': 15000, 'Maharashtra': 19000, 'UP': 10900}"
      ]
     },
     "execution_count": 28,
     "metadata": {},
     "output_type": "execute_result"
    }
   ],
   "source": [
    "state_wise_data"
   ]
  },
  {
   "cell_type": "code",
   "execution_count": 29,
   "id": "47b33f19-83d1-4036-902a-f4d20cf38a05",
   "metadata": {},
   "outputs": [
    {
     "data": {
      "text/plain": [
       "dict_keys(['Delhi', 'Maharashtra', 'UP'])"
      ]
     },
     "execution_count": 29,
     "metadata": {},
     "output_type": "execute_result"
    }
   ],
   "source": [
    "state_wise_data.keys()"
   ]
  },
  {
   "cell_type": "code",
   "execution_count": 30,
   "id": "6956af16-8983-47a4-9bfb-349e3538b903",
   "metadata": {},
   "outputs": [
    {
     "data": {
      "text/plain": [
       "dict_values([15000, 19000, 10900])"
      ]
     },
     "execution_count": 30,
     "metadata": {},
     "output_type": "execute_result"
    }
   ],
   "source": [
    "state_wise_data.values()"
   ]
  },
  {
   "cell_type": "code",
   "execution_count": 31,
   "id": "fa433639-8719-47c5-95e0-93b9f1db417d",
   "metadata": {},
   "outputs": [
    {
     "data": {
      "text/plain": [
       "dict_items([('Delhi', 15000), ('Maharashtra', 19000), ('UP', 10900)])"
      ]
     },
     "execution_count": 31,
     "metadata": {},
     "output_type": "execute_result"
    }
   ],
   "source": [
    "state_wise_data.items()"
   ]
  },
  {
   "cell_type": "code",
   "execution_count": 34,
   "id": "fe3668ce-888f-4bd0-92d7-f4556cc0e517",
   "metadata": {},
   "outputs": [
    {
     "name": "stdout",
     "output_type": "stream",
     "text": [
      "('Delhi', 15000)\n",
      "('Maharashtra', 19000)\n",
      "('UP', 10900)\n"
     ]
    }
   ],
   "source": [
    "for i in state_wise_data.items():\n",
    "    print(i)"
   ]
  },
  {
   "cell_type": "code",
   "execution_count": 35,
   "id": "2aec50a0-d0d2-4e14-b9a7-e2ed6b2792c0",
   "metadata": {},
   "outputs": [],
   "source": [
    "more_state_wise_data = {\n",
    "    \"Goa\":4621,\n",
    "    \"Maharashtra\":20000\n",
    "}"
   ]
  },
  {
   "cell_type": "code",
   "execution_count": 36,
   "id": "dd7de7fd-f6fc-421c-b098-cb21c711757a",
   "metadata": {},
   "outputs": [
    {
     "data": {
      "text/plain": [
       "{'Goa': 4621, 'Maharashtra': 20000}"
      ]
     },
     "execution_count": 36,
     "metadata": {},
     "output_type": "execute_result"
    }
   ],
   "source": [
    "more_state_wise_data"
   ]
  },
  {
   "cell_type": "code",
   "execution_count": 37,
   "id": "9673b30d-9c93-4fa0-98ae-7f482337c7e2",
   "metadata": {},
   "outputs": [],
   "source": [
    "state_wise_data.update(more_state_wise_data)"
   ]
  },
  {
   "cell_type": "code",
   "execution_count": 39,
   "id": "9ee3fd2b-dc05-4c3e-855b-211e52548ba8",
   "metadata": {},
   "outputs": [
    {
     "data": {
      "text/plain": [
       "{'Delhi': 15000, 'Maharashtra': 20000, 'UP': 10900, 'Goa': 4621}"
      ]
     },
     "execution_count": 39,
     "metadata": {},
     "output_type": "execute_result"
    }
   ],
   "source": [
    "state_wise_data"
   ]
  },
  {
   "cell_type": "code",
   "execution_count": 40,
   "id": "526f2fab-34e0-43a6-994b-67457eca6a31",
   "metadata": {},
   "outputs": [],
   "source": [
    "# '''\n",
    "# Question 2 - \n",
    "# 1. Take a string as input.\n",
    "# 2. Create a dictionary acc to the following criteria - \n",
    "# - There will be one key value pair for each unique character - \n",
    "# - Key will be character and value will be the count of character inside the string\n",
    "\n",
    "# INPUT - \"rrsssstttt\"\n",
    "# OUTPUT -\n",
    "# {\n",
    "#     \"r\": 2,\n",
    "#     \"s\": 4,\n",
    "#     \"t\": 4\n",
    "# }\n",
    "# '''"
   ]
  },
  {
   "cell_type": "code",
   "execution_count": 43,
   "id": "863e409c-57fd-4721-be06-663f66dc83e1",
   "metadata": {},
   "outputs": [],
   "source": [
    "def character_count(input_string):\n",
    "    result = {}\n",
    "    unique_char = set(input_string)\n",
    "    for i in unique_char:\n",
    "        result[i] = input_string.count(i)\n",
    "    return result"
   ]
  },
  {
   "cell_type": "code",
   "execution_count": 45,
   "id": "6bcd060b-92c9-4097-8c5d-dac1e4b4c717",
   "metadata": {},
   "outputs": [
    {
     "data": {
      "text/plain": [
       "{'t': 4, 'r': 2, 'g': 9, 's': 4}"
      ]
     },
     "execution_count": 45,
     "metadata": {},
     "output_type": "execute_result"
    }
   ],
   "source": [
    "character_count(\"rrssssttttggggggggg\")"
   ]
  },
  {
   "cell_type": "code",
   "execution_count": 46,
   "id": "59f52ef9-c13b-492e-946b-c112c68dfa23",
   "metadata": {},
   "outputs": [],
   "source": [
    "# Create a function that merges two dictionaries. If there are duplicate keys, sum their values.\n",
    "dict1 = {'a': 1, 'b': 2}\n",
    "dict2 = {'b': 3, 'c': 4}\n",
    "# {'a': 1, 'b': 5, 'c': 4} output"
   ]
  },
  {
   "cell_type": "code",
   "execution_count": 54,
   "id": "8f2415f3-10bc-4c42-adff-e2e6c3ddf61f",
   "metadata": {},
   "outputs": [],
   "source": [
    "def merge_dictionaries(dict1,dict2):\n",
    "    dict3 = dict1.copy()\n",
    "    # we will update dict3 with dict2 values\n",
    "    for key,value in dict2.items():\n",
    "        if key in dict3:\n",
    "            dict3[key] += value\n",
    "        else:\n",
    "            dict3[key] = value\n",
    "    return dict3"
   ]
  },
  {
   "cell_type": "code",
   "execution_count": 55,
   "id": "657f8f67-55ba-40c1-b2be-2de8d14153e4",
   "metadata": {},
   "outputs": [
    {
     "data": {
      "text/plain": [
       "{'a': 1, 'b': 5, 'c': 4}"
      ]
     },
     "execution_count": 55,
     "metadata": {},
     "output_type": "execute_result"
    }
   ],
   "source": [
    "merge_dictionaries(dict1,dict2)"
   ]
  },
  {
   "cell_type": "code",
   "execution_count": 61,
   "id": "ac620640-dd51-4406-a524-c3d9a51e461b",
   "metadata": {},
   "outputs": [
    {
     "data": {
      "text/plain": [
       "{1: 'a', 2: 'b'}"
      ]
     },
     "execution_count": 61,
     "metadata": {},
     "output_type": "execute_result"
    }
   ],
   "source": [
    "inverted_dict({'a': 1, 'b': 2}) # {'a': 1, 'b': 2} , output {1:'a', 2:'b'}"
   ]
  },
  {
   "cell_type": "code",
   "execution_count": 60,
   "id": "27c1009a-289d-47a5-a664-a9d43a645f8a",
   "metadata": {},
   "outputs": [],
   "source": [
    "def inverted_dict(input_dict):\n",
    "    d_new = {}\n",
    "    for key,value in input_dict.items():\n",
    "        d_new[value] = key\n",
    "    return d_new"
   ]
  },
  {
   "cell_type": "code",
   "execution_count": null,
   "id": "d7cc8f95-0984-4bc2-a4a3-e646baece4ed",
   "metadata": {},
   "outputs": [],
   "source": []
  },
  {
   "cell_type": "code",
   "execution_count": null,
   "id": "a21d165b-de3d-4ff8-9d8d-deba85b883fb",
   "metadata": {},
   "outputs": [],
   "source": []
  }
 ],
 "metadata": {
  "kernelspec": {
   "display_name": "Python 3 (ipykernel)",
   "language": "python",
   "name": "python3"
  },
  "language_info": {
   "codemirror_mode": {
    "name": "ipython",
    "version": 3
   },
   "file_extension": ".py",
   "mimetype": "text/x-python",
   "name": "python",
   "nbconvert_exporter": "python",
   "pygments_lexer": "ipython3",
   "version": "3.11.2"
  }
 },
 "nbformat": 4,
 "nbformat_minor": 5
}
